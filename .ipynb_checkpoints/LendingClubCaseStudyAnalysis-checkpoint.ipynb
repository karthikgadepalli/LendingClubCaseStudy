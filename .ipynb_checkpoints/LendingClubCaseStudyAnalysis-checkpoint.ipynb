{
 "cells": [
  {
   "cell_type": "markdown",
   "id": "606ff1bc-5f48-436b-9db4-67386516e2e0",
   "metadata": {},
   "source": [
    "# Lending Club Case Study"
   ]
  },
  {
   "cell_type": "code",
   "execution_count": 151,
   "id": "e3541940-ac90-4712-8e1f-1c1f573aabd0",
   "metadata": {},
   "outputs": [],
   "source": [
    "#Importing required libraries\n",
    "import numpy as np\n",
    "import pandas as pd\n",
    "import matplotlib.pyplot as plt\n",
    "import seaborn as sns\n",
    "import warnings\n",
    "warnings.filterwarnings(\"ignore\")"
   ]
  },
  {
   "cell_type": "markdown",
   "id": "a7ecc0a8-f333-4873-974e-2619ebef05fb",
   "metadata": {},
   "source": [
    "## Reading Input Data"
   ]
  },
  {
   "cell_type": "code",
   "execution_count": 152,
   "id": "9b20e028-2bf1-4242-9366-6e5220b1dfef",
   "metadata": {},
   "outputs": [],
   "source": [
    "# Reading input Loan Data file \n",
    "loandf = pd.read_csv(\"loan.csv\")"
   ]
  },
  {
   "cell_type": "code",
   "execution_count": 154,
   "id": "adfade15-7f39-4f45-8f75-8528ffd0f917",
   "metadata": {},
   "outputs": [
    {
     "data": {
      "text/html": [
       "<div>\n",
       "<style scoped>\n",
       "    .dataframe tbody tr th:only-of-type {\n",
       "        vertical-align: middle;\n",
       "    }\n",
       "\n",
       "    .dataframe tbody tr th {\n",
       "        vertical-align: top;\n",
       "    }\n",
       "\n",
       "    .dataframe thead th {\n",
       "        text-align: right;\n",
       "    }\n",
       "</style>\n",
       "<table border=\"1\" class=\"dataframe\">\n",
       "  <thead>\n",
       "    <tr style=\"text-align: right;\">\n",
       "      <th></th>\n",
       "      <th>id</th>\n",
       "      <th>member_id</th>\n",
       "      <th>loan_amnt</th>\n",
       "      <th>funded_amnt</th>\n",
       "      <th>funded_amnt_inv</th>\n",
       "      <th>term</th>\n",
       "      <th>int_rate</th>\n",
       "      <th>installment</th>\n",
       "      <th>grade</th>\n",
       "      <th>sub_grade</th>\n",
       "      <th>...</th>\n",
       "      <th>num_tl_90g_dpd_24m</th>\n",
       "      <th>num_tl_op_past_12m</th>\n",
       "      <th>pct_tl_nvr_dlq</th>\n",
       "      <th>percent_bc_gt_75</th>\n",
       "      <th>pub_rec_bankruptcies</th>\n",
       "      <th>tax_liens</th>\n",
       "      <th>tot_hi_cred_lim</th>\n",
       "      <th>total_bal_ex_mort</th>\n",
       "      <th>total_bc_limit</th>\n",
       "      <th>total_il_high_credit_limit</th>\n",
       "    </tr>\n",
       "  </thead>\n",
       "  <tbody>\n",
       "    <tr>\n",
       "      <th>0</th>\n",
       "      <td>1077501</td>\n",
       "      <td>1296599</td>\n",
       "      <td>5000</td>\n",
       "      <td>5000</td>\n",
       "      <td>4975.0</td>\n",
       "      <td>36 months</td>\n",
       "      <td>10.65%</td>\n",
       "      <td>162.87</td>\n",
       "      <td>B</td>\n",
       "      <td>B2</td>\n",
       "      <td>...</td>\n",
       "      <td>NaN</td>\n",
       "      <td>NaN</td>\n",
       "      <td>NaN</td>\n",
       "      <td>NaN</td>\n",
       "      <td>0.0</td>\n",
       "      <td>0.0</td>\n",
       "      <td>NaN</td>\n",
       "      <td>NaN</td>\n",
       "      <td>NaN</td>\n",
       "      <td>NaN</td>\n",
       "    </tr>\n",
       "    <tr>\n",
       "      <th>1</th>\n",
       "      <td>1077430</td>\n",
       "      <td>1314167</td>\n",
       "      <td>2500</td>\n",
       "      <td>2500</td>\n",
       "      <td>2500.0</td>\n",
       "      <td>60 months</td>\n",
       "      <td>15.27%</td>\n",
       "      <td>59.83</td>\n",
       "      <td>C</td>\n",
       "      <td>C4</td>\n",
       "      <td>...</td>\n",
       "      <td>NaN</td>\n",
       "      <td>NaN</td>\n",
       "      <td>NaN</td>\n",
       "      <td>NaN</td>\n",
       "      <td>0.0</td>\n",
       "      <td>0.0</td>\n",
       "      <td>NaN</td>\n",
       "      <td>NaN</td>\n",
       "      <td>NaN</td>\n",
       "      <td>NaN</td>\n",
       "    </tr>\n",
       "    <tr>\n",
       "      <th>2</th>\n",
       "      <td>1077175</td>\n",
       "      <td>1313524</td>\n",
       "      <td>2400</td>\n",
       "      <td>2400</td>\n",
       "      <td>2400.0</td>\n",
       "      <td>36 months</td>\n",
       "      <td>15.96%</td>\n",
       "      <td>84.33</td>\n",
       "      <td>C</td>\n",
       "      <td>C5</td>\n",
       "      <td>...</td>\n",
       "      <td>NaN</td>\n",
       "      <td>NaN</td>\n",
       "      <td>NaN</td>\n",
       "      <td>NaN</td>\n",
       "      <td>0.0</td>\n",
       "      <td>0.0</td>\n",
       "      <td>NaN</td>\n",
       "      <td>NaN</td>\n",
       "      <td>NaN</td>\n",
       "      <td>NaN</td>\n",
       "    </tr>\n",
       "    <tr>\n",
       "      <th>3</th>\n",
       "      <td>1076863</td>\n",
       "      <td>1277178</td>\n",
       "      <td>10000</td>\n",
       "      <td>10000</td>\n",
       "      <td>10000.0</td>\n",
       "      <td>36 months</td>\n",
       "      <td>13.49%</td>\n",
       "      <td>339.31</td>\n",
       "      <td>C</td>\n",
       "      <td>C1</td>\n",
       "      <td>...</td>\n",
       "      <td>NaN</td>\n",
       "      <td>NaN</td>\n",
       "      <td>NaN</td>\n",
       "      <td>NaN</td>\n",
       "      <td>0.0</td>\n",
       "      <td>0.0</td>\n",
       "      <td>NaN</td>\n",
       "      <td>NaN</td>\n",
       "      <td>NaN</td>\n",
       "      <td>NaN</td>\n",
       "    </tr>\n",
       "    <tr>\n",
       "      <th>4</th>\n",
       "      <td>1075358</td>\n",
       "      <td>1311748</td>\n",
       "      <td>3000</td>\n",
       "      <td>3000</td>\n",
       "      <td>3000.0</td>\n",
       "      <td>60 months</td>\n",
       "      <td>12.69%</td>\n",
       "      <td>67.79</td>\n",
       "      <td>B</td>\n",
       "      <td>B5</td>\n",
       "      <td>...</td>\n",
       "      <td>NaN</td>\n",
       "      <td>NaN</td>\n",
       "      <td>NaN</td>\n",
       "      <td>NaN</td>\n",
       "      <td>0.0</td>\n",
       "      <td>0.0</td>\n",
       "      <td>NaN</td>\n",
       "      <td>NaN</td>\n",
       "      <td>NaN</td>\n",
       "      <td>NaN</td>\n",
       "    </tr>\n",
       "  </tbody>\n",
       "</table>\n",
       "<p>5 rows × 111 columns</p>\n",
       "</div>"
      ],
      "text/plain": [
       "        id  member_id  loan_amnt  funded_amnt  funded_amnt_inv        term  \\\n",
       "0  1077501    1296599       5000         5000           4975.0   36 months   \n",
       "1  1077430    1314167       2500         2500           2500.0   60 months   \n",
       "2  1077175    1313524       2400         2400           2400.0   36 months   \n",
       "3  1076863    1277178      10000        10000          10000.0   36 months   \n",
       "4  1075358    1311748       3000         3000           3000.0   60 months   \n",
       "\n",
       "  int_rate  installment grade sub_grade  ... num_tl_90g_dpd_24m  \\\n",
       "0   10.65%       162.87     B        B2  ...                NaN   \n",
       "1   15.27%        59.83     C        C4  ...                NaN   \n",
       "2   15.96%        84.33     C        C5  ...                NaN   \n",
       "3   13.49%       339.31     C        C1  ...                NaN   \n",
       "4   12.69%        67.79     B        B5  ...                NaN   \n",
       "\n",
       "  num_tl_op_past_12m pct_tl_nvr_dlq  percent_bc_gt_75 pub_rec_bankruptcies  \\\n",
       "0                NaN            NaN               NaN                  0.0   \n",
       "1                NaN            NaN               NaN                  0.0   \n",
       "2                NaN            NaN               NaN                  0.0   \n",
       "3                NaN            NaN               NaN                  0.0   \n",
       "4                NaN            NaN               NaN                  0.0   \n",
       "\n",
       "  tax_liens tot_hi_cred_lim total_bal_ex_mort total_bc_limit  \\\n",
       "0       0.0             NaN               NaN            NaN   \n",
       "1       0.0             NaN               NaN            NaN   \n",
       "2       0.0             NaN               NaN            NaN   \n",
       "3       0.0             NaN               NaN            NaN   \n",
       "4       0.0             NaN               NaN            NaN   \n",
       "\n",
       "  total_il_high_credit_limit  \n",
       "0                        NaN  \n",
       "1                        NaN  \n",
       "2                        NaN  \n",
       "3                        NaN  \n",
       "4                        NaN  \n",
       "\n",
       "[5 rows x 111 columns]"
      ]
     },
     "execution_count": 154,
     "metadata": {},
     "output_type": "execute_result"
    }
   ],
   "source": [
    "#Reading Data first 5 records\n",
    "loandf.head()"
   ]
  },
  {
   "cell_type": "markdown",
   "id": "2254b3f9-627a-4682-9f6f-cab92b11c7b9",
   "metadata": {},
   "source": [
    "## Understanding Structure of Data"
   ]
  },
  {
   "cell_type": "code",
   "execution_count": 155,
   "id": "ea1459fd-671d-4b03-8e77-af039d29d84f",
   "metadata": {},
   "outputs": [
    {
     "data": {
      "text/plain": [
       "(39717, 111)"
      ]
     },
     "execution_count": 155,
     "metadata": {},
     "output_type": "execute_result"
    }
   ],
   "source": [
    "#Understand the dimension of data. No.of columns and Rows\n",
    "loandf.shape"
   ]
  },
  {
   "cell_type": "code",
   "execution_count": 156,
   "id": "56bc4b31-d236-414a-b04c-78bfae31b901",
   "metadata": {},
   "outputs": [
    {
     "data": {
      "text/plain": [
       "id                              int64\n",
       "member_id                       int64\n",
       "loan_amnt                       int64\n",
       "funded_amnt                     int64\n",
       "funded_amnt_inv               float64\n",
       "                               ...   \n",
       "tax_liens                     float64\n",
       "tot_hi_cred_lim               float64\n",
       "total_bal_ex_mort             float64\n",
       "total_bc_limit                float64\n",
       "total_il_high_credit_limit    float64\n",
       "Length: 111, dtype: object"
      ]
     },
     "execution_count": 156,
     "metadata": {},
     "output_type": "execute_result"
    }
   ],
   "source": [
    "# Types of data in Loan data\n",
    "loandf.dtypes"
   ]
  },
  {
   "cell_type": "code",
   "execution_count": 157,
   "id": "1ba30073-3e30-43e0-ba62-6a497fe5f933",
   "metadata": {},
   "outputs": [
    {
     "name": "stdout",
     "output_type": "stream",
     "text": [
      "<class 'pandas.core.frame.DataFrame'>\n",
      "RangeIndex: 39717 entries, 0 to 39716\n",
      "Columns: 111 entries, id to total_il_high_credit_limit\n",
      "dtypes: float64(74), int64(13), object(24)\n",
      "memory usage: 33.6+ MB\n"
     ]
    }
   ],
   "source": [
    "# Information of loan data. \n",
    "loandf.info()"
   ]
  },
  {
   "cell_type": "markdown",
   "id": "ff5bace8-e1b5-4d74-83c8-23ee12c06de7",
   "metadata": {},
   "source": [
    "## Data Cleaning\n",
    "### Missing value checks"
   ]
  },
  {
   "cell_type": "code",
   "execution_count": 158,
   "id": "a1217dd4-8a41-4d38-b24e-55ef8ce58638",
   "metadata": {},
   "outputs": [
    {
     "data": {
      "text/plain": [
       "id                                0\n",
       "member_id                         0\n",
       "loan_amnt                         0\n",
       "funded_amnt                       0\n",
       "funded_amnt_inv                   0\n",
       "                              ...  \n",
       "tax_liens                        39\n",
       "tot_hi_cred_lim               39717\n",
       "total_bal_ex_mort             39717\n",
       "total_bc_limit                39717\n",
       "total_il_high_credit_limit    39717\n",
       "Length: 111, dtype: int64"
      ]
     },
     "execution_count": 158,
     "metadata": {},
     "output_type": "execute_result"
    }
   ],
   "source": [
    "#Identify number of records having null information\n",
    "loandf.isnull().sum()"
   ]
  },
  {
   "cell_type": "code",
   "execution_count": 171,
   "id": "0b41b5d4-0db0-44e1-be8c-4bd1e0a81ccd",
   "metadata": {},
   "outputs": [
    {
     "data": {
      "text/plain": [
       "Index(['mths_since_last_delinq', 'mths_since_last_record', 'next_pymnt_d',\n",
       "       'mths_since_last_major_derog', 'annual_inc_joint', 'dti_joint',\n",
       "       'verification_status_joint', 'tot_coll_amt', 'tot_cur_bal',\n",
       "       'open_acc_6m', 'open_il_6m', 'open_il_12m', 'open_il_24m',\n",
       "       'mths_since_rcnt_il', 'total_bal_il', 'il_util', 'open_rv_12m',\n",
       "       'open_rv_24m', 'max_bal_bc', 'all_util', 'total_rev_hi_lim', 'inq_fi',\n",
       "       'total_cu_tl', 'inq_last_12m', 'acc_open_past_24mths', 'avg_cur_bal',\n",
       "       'bc_open_to_buy', 'bc_util', 'mo_sin_old_il_acct',\n",
       "       'mo_sin_old_rev_tl_op', 'mo_sin_rcnt_rev_tl_op', 'mo_sin_rcnt_tl',\n",
       "       'mort_acc', 'mths_since_recent_bc', 'mths_since_recent_bc_dlq',\n",
       "       'mths_since_recent_inq', 'mths_since_recent_revol_delinq',\n",
       "       'num_accts_ever_120_pd', 'num_actv_bc_tl', 'num_actv_rev_tl',\n",
       "       'num_bc_sats', 'num_bc_tl', 'num_il_tl', 'num_op_rev_tl',\n",
       "       'num_rev_accts', 'num_rev_tl_bal_gt_0', 'num_sats', 'num_tl_120dpd_2m',\n",
       "       'num_tl_30dpd', 'num_tl_90g_dpd_24m', 'num_tl_op_past_12m',\n",
       "       'pct_tl_nvr_dlq', 'percent_bc_gt_75', 'tot_hi_cred_lim',\n",
       "       'total_bal_ex_mort', 'total_bc_limit', 'total_il_high_credit_limit'],\n",
       "      dtype='object')"
      ]
     },
     "execution_count": 171,
     "metadata": {},
     "output_type": "execute_result"
    }
   ],
   "source": [
    "# Most of the columns have null value == total no. of rows . Meaning entire column is null\n",
    "# Identifying columns with more than 50% missing values\n",
    "missing = loandf.isna().mean()\n",
    "columns_to_drop = missing[missing > 0.5].index\n",
    "columns_to_drop"
   ]
  },
  {
   "cell_type": "code",
   "execution_count": 172,
   "id": "fff17e9e-f862-45b4-9ec0-1288e0ee887c",
   "metadata": {},
   "outputs": [],
   "source": [
    "# Dropping columns with more than 50% missing values\n",
    "loandf.drop(columns=columns_to_drop, inplace=True)"
   ]
  },
  {
   "cell_type": "code",
   "execution_count": 173,
   "id": "eecd1528-6bb1-4095-a624-9097068c052e",
   "metadata": {},
   "outputs": [
    {
     "data": {
      "text/plain": [
       "(39717, 54)"
      ]
     },
     "execution_count": 173,
     "metadata": {},
     "output_type": "execute_result"
    }
   ],
   "source": [
    "# Shape of loan dataframe after removing missing values\n",
    "loandf.shape"
   ]
  },
  {
   "cell_type": "code",
   "execution_count": 175,
   "id": "7538bab8-4d22-466e-8ee6-cc37dd3b9e3c",
   "metadata": {},
   "outputs": [
    {
     "data": {
      "text/html": [
       "<div>\n",
       "<style scoped>\n",
       "    .dataframe tbody tr th:only-of-type {\n",
       "        vertical-align: middle;\n",
       "    }\n",
       "\n",
       "    .dataframe tbody tr th {\n",
       "        vertical-align: top;\n",
       "    }\n",
       "\n",
       "    .dataframe thead th {\n",
       "        text-align: right;\n",
       "    }\n",
       "</style>\n",
       "<table border=\"1\" class=\"dataframe\">\n",
       "  <thead>\n",
       "    <tr style=\"text-align: right;\">\n",
       "      <th></th>\n",
       "      <th>id</th>\n",
       "      <th>member_id</th>\n",
       "      <th>loan_amnt</th>\n",
       "      <th>funded_amnt</th>\n",
       "      <th>funded_amnt_inv</th>\n",
       "      <th>term</th>\n",
       "      <th>int_rate</th>\n",
       "      <th>installment</th>\n",
       "      <th>grade</th>\n",
       "      <th>sub_grade</th>\n",
       "      <th>...</th>\n",
       "      <th>last_pymnt_amnt</th>\n",
       "      <th>last_credit_pull_d</th>\n",
       "      <th>collections_12_mths_ex_med</th>\n",
       "      <th>policy_code</th>\n",
       "      <th>application_type</th>\n",
       "      <th>acc_now_delinq</th>\n",
       "      <th>chargeoff_within_12_mths</th>\n",
       "      <th>delinq_amnt</th>\n",
       "      <th>pub_rec_bankruptcies</th>\n",
       "      <th>tax_liens</th>\n",
       "    </tr>\n",
       "  </thead>\n",
       "  <tbody>\n",
       "    <tr>\n",
       "      <th>0</th>\n",
       "      <td>1077501</td>\n",
       "      <td>1296599</td>\n",
       "      <td>5000</td>\n",
       "      <td>5000</td>\n",
       "      <td>4975.0</td>\n",
       "      <td>36 months</td>\n",
       "      <td>10.65%</td>\n",
       "      <td>162.87</td>\n",
       "      <td>B</td>\n",
       "      <td>B2</td>\n",
       "      <td>...</td>\n",
       "      <td>171.62</td>\n",
       "      <td>May-16</td>\n",
       "      <td>0.0</td>\n",
       "      <td>1</td>\n",
       "      <td>INDIVIDUAL</td>\n",
       "      <td>0</td>\n",
       "      <td>0.0</td>\n",
       "      <td>0</td>\n",
       "      <td>0.0</td>\n",
       "      <td>0.0</td>\n",
       "    </tr>\n",
       "    <tr>\n",
       "      <th>1</th>\n",
       "      <td>1077430</td>\n",
       "      <td>1314167</td>\n",
       "      <td>2500</td>\n",
       "      <td>2500</td>\n",
       "      <td>2500.0</td>\n",
       "      <td>60 months</td>\n",
       "      <td>15.27%</td>\n",
       "      <td>59.83</td>\n",
       "      <td>C</td>\n",
       "      <td>C4</td>\n",
       "      <td>...</td>\n",
       "      <td>119.66</td>\n",
       "      <td>Sep-13</td>\n",
       "      <td>0.0</td>\n",
       "      <td>1</td>\n",
       "      <td>INDIVIDUAL</td>\n",
       "      <td>0</td>\n",
       "      <td>0.0</td>\n",
       "      <td>0</td>\n",
       "      <td>0.0</td>\n",
       "      <td>0.0</td>\n",
       "    </tr>\n",
       "    <tr>\n",
       "      <th>2</th>\n",
       "      <td>1077175</td>\n",
       "      <td>1313524</td>\n",
       "      <td>2400</td>\n",
       "      <td>2400</td>\n",
       "      <td>2400.0</td>\n",
       "      <td>36 months</td>\n",
       "      <td>15.96%</td>\n",
       "      <td>84.33</td>\n",
       "      <td>C</td>\n",
       "      <td>C5</td>\n",
       "      <td>...</td>\n",
       "      <td>649.91</td>\n",
       "      <td>May-16</td>\n",
       "      <td>0.0</td>\n",
       "      <td>1</td>\n",
       "      <td>INDIVIDUAL</td>\n",
       "      <td>0</td>\n",
       "      <td>0.0</td>\n",
       "      <td>0</td>\n",
       "      <td>0.0</td>\n",
       "      <td>0.0</td>\n",
       "    </tr>\n",
       "    <tr>\n",
       "      <th>3</th>\n",
       "      <td>1076863</td>\n",
       "      <td>1277178</td>\n",
       "      <td>10000</td>\n",
       "      <td>10000</td>\n",
       "      <td>10000.0</td>\n",
       "      <td>36 months</td>\n",
       "      <td>13.49%</td>\n",
       "      <td>339.31</td>\n",
       "      <td>C</td>\n",
       "      <td>C1</td>\n",
       "      <td>...</td>\n",
       "      <td>357.48</td>\n",
       "      <td>Apr-16</td>\n",
       "      <td>0.0</td>\n",
       "      <td>1</td>\n",
       "      <td>INDIVIDUAL</td>\n",
       "      <td>0</td>\n",
       "      <td>0.0</td>\n",
       "      <td>0</td>\n",
       "      <td>0.0</td>\n",
       "      <td>0.0</td>\n",
       "    </tr>\n",
       "    <tr>\n",
       "      <th>4</th>\n",
       "      <td>1075358</td>\n",
       "      <td>1311748</td>\n",
       "      <td>3000</td>\n",
       "      <td>3000</td>\n",
       "      <td>3000.0</td>\n",
       "      <td>60 months</td>\n",
       "      <td>12.69%</td>\n",
       "      <td>67.79</td>\n",
       "      <td>B</td>\n",
       "      <td>B5</td>\n",
       "      <td>...</td>\n",
       "      <td>67.79</td>\n",
       "      <td>May-16</td>\n",
       "      <td>0.0</td>\n",
       "      <td>1</td>\n",
       "      <td>INDIVIDUAL</td>\n",
       "      <td>0</td>\n",
       "      <td>0.0</td>\n",
       "      <td>0</td>\n",
       "      <td>0.0</td>\n",
       "      <td>0.0</td>\n",
       "    </tr>\n",
       "  </tbody>\n",
       "</table>\n",
       "<p>5 rows × 54 columns</p>\n",
       "</div>"
      ],
      "text/plain": [
       "        id  member_id  loan_amnt  funded_amnt  funded_amnt_inv        term  \\\n",
       "0  1077501    1296599       5000         5000           4975.0   36 months   \n",
       "1  1077430    1314167       2500         2500           2500.0   60 months   \n",
       "2  1077175    1313524       2400         2400           2400.0   36 months   \n",
       "3  1076863    1277178      10000        10000          10000.0   36 months   \n",
       "4  1075358    1311748       3000         3000           3000.0   60 months   \n",
       "\n",
       "  int_rate  installment grade sub_grade  ... last_pymnt_amnt  \\\n",
       "0   10.65%       162.87     B        B2  ...          171.62   \n",
       "1   15.27%        59.83     C        C4  ...          119.66   \n",
       "2   15.96%        84.33     C        C5  ...          649.91   \n",
       "3   13.49%       339.31     C        C1  ...          357.48   \n",
       "4   12.69%        67.79     B        B5  ...           67.79   \n",
       "\n",
       "  last_credit_pull_d collections_12_mths_ex_med  policy_code application_type  \\\n",
       "0             May-16                        0.0            1       INDIVIDUAL   \n",
       "1             Sep-13                        0.0            1       INDIVIDUAL   \n",
       "2             May-16                        0.0            1       INDIVIDUAL   \n",
       "3             Apr-16                        0.0            1       INDIVIDUAL   \n",
       "4             May-16                        0.0            1       INDIVIDUAL   \n",
       "\n",
       "  acc_now_delinq chargeoff_within_12_mths delinq_amnt pub_rec_bankruptcies  \\\n",
       "0              0                      0.0           0                  0.0   \n",
       "1              0                      0.0           0                  0.0   \n",
       "2              0                      0.0           0                  0.0   \n",
       "3              0                      0.0           0                  0.0   \n",
       "4              0                      0.0           0                  0.0   \n",
       "\n",
       "  tax_liens  \n",
       "0       0.0  \n",
       "1       0.0  \n",
       "2       0.0  \n",
       "3       0.0  \n",
       "4       0.0  \n",
       "\n",
       "[5 rows x 54 columns]"
      ]
     },
     "execution_count": 175,
     "metadata": {},
     "output_type": "execute_result"
    }
   ],
   "source": [
    "loandf.head()"
   ]
  },
  {
   "cell_type": "code",
   "execution_count": 176,
   "id": "a85a3e3d-98f3-4893-ae28-864d39dc3464",
   "metadata": {},
   "outputs": [
    {
     "data": {
      "text/plain": [
       "desc\n",
       "                                                                                                                                                                                                                                                                                                                                                                                                                                                                                                                                                                                                                                                                                                                                                                                                                                           210\n",
       "Debt Consolidation                                                                                                                                                                                                                                                                                                                                                                                                                                                                                                                                                                                                                                                                                                                                                                                                                           8\n",
       "Camping Membership                                                                                                                                                                                                                                                                                                                                                                                                                                                                                                                                                                                                                                                                                                                                                                                                                           6\n",
       "Personal Loan                                                                                                                                                                                                                                                                                                                                                                                                                                                                                                                                                                                                                                                                                                                                                                                                                                3\n",
       "personal loan                                                                                                                                                                                                                                                                                                                                                                                                                                                                                                                                                                                                                                                                                                                                                                                                                                3\n",
       "                                                                                                                                                                                                                                                                                                                                                                                                                                                                                                                                                                                                                                                                                                                                                                                                                                          ... \n",
       "  Borrower added on 05/13/11 > This loan is to partially finance a car. The payments will be very manageable for me.<br/>                                                                                                                                                                                                                                                                                                                                                                                                                                                                                                                                                                                                                                                                                                                    1\n",
       "  Borrower added on 05/13/11 > I am consolidating my bills to make it cheaper on bills. I am up for a promotion at my job and have been here three years already. I also have a fiance that has a very reliable job who also helps with finances. My requirement is that all bills are paid on time if not early. This is to keep good standings with all businesses and keep a awesome credit score.<br/> Borrower added on 05/16/11 > I am asking for this loan to pay off bills with higher interest rates and have a lower payment every month.<br/>                                                                                                                                                                                                                                                                                     1\n",
       "  Borrower added on 05/13/11 > Debt Consolidation<br/> Borrower added on 05/13/11 > I plan to use this money to consolidate bills with high monthly payments and improve cash flow.<br/> Borrower added on 05/13/11 > I have good credit and I have a very stable, solid and professional job that I have held for a long time - over 20 years.  I have a Bachelor's degree and I'm currently working on a masters.<br/> Borrower added on 05/13/11 > My mortgage and utilities run approx less than 2k per month including taxes.  I have sufficient income to pay off this loan. I simply want to take my open accounts and consolidate them into one easy payment.<br/>                                                                                                                                                                   1\n",
       "  Borrower added on 05/16/11 > I plan on utilizing these funds to further boost my already great standing credit.<br/><br/>I am a good borrower as I have zero delinquencies and have had multiple loans all of which have been paid off in a timely manner.<br/><br/>My monthly budget is coordinated so that I have sufficient spending after all bills are paid.  In addition I leverage extra funding for savings should any unexpected situations occur.<br/><br/>My job is stable.  I have advanced over the past 3 years in the Accounting industry from a Junior Associate to a Regular Associate to a now Senior Associate on my way to becoming a Manager.  I have received multiple promotions and see this position as a long term career further motivating me to work and at the same time allowing me job security.<br/>      1\n",
       "I plan to consolidate over $7,000 of debt: a combination of credit cards and student loans.                                                                                                                                                                                                                                                                                                                                                                                                                                                                                                                                                                                                                                                                                                                                                  1\n",
       "Name: count, Length: 26526, dtype: int64"
      ]
     },
     "execution_count": 176,
     "metadata": {},
     "output_type": "execute_result"
    }
   ],
   "source": [
    "# Let's analyze other categorical variables. One of them is desc column.\n",
    "loandf['desc'].value_counts()"
   ]
  },
  {
   "cell_type": "code",
   "execution_count": 177,
   "id": "f406b4e6-fd36-42fc-8c33-136a8f2e0a50",
   "metadata": {},
   "outputs": [
    {
     "data": {
      "text/plain": [
       "(39717, 53)"
      ]
     },
     "execution_count": 177,
     "metadata": {},
     "output_type": "execute_result"
    }
   ],
   "source": [
    "# Dropping desc column as the values are text and dont contribute to analysis\n",
    "loandf.drop(columns=['desc'], inplace=True)\n",
    "loandf.shape"
   ]
  },
  {
   "cell_type": "code",
   "execution_count": 179,
   "id": "51069bbb-d212-470e-8d64-89256f552f36",
   "metadata": {},
   "outputs": [
    {
     "data": {
      "text/plain": [
       "pub_rec\n",
       "0    37601\n",
       "1     2056\n",
       "2       51\n",
       "3        7\n",
       "4        2\n",
       "Name: count, dtype: int64"
      ]
     },
     "execution_count": 179,
     "metadata": {},
     "output_type": "execute_result"
    }
   ],
   "source": [
    "# Analysing 'pub_rec' column\n",
    "loandf['pub_rec'].value_counts()"
   ]
  },
  {
   "cell_type": "code",
   "execution_count": 180,
   "id": "898e6fba-9e4a-4f54-82a2-42c673c03300",
   "metadata": {},
   "outputs": [
    {
     "data": {
      "text/plain": [
       "0"
      ]
     },
     "execution_count": 180,
     "metadata": {},
     "output_type": "execute_result"
    }
   ],
   "source": [
    "loandf['pub_rec'].isna().sum()"
   ]
  },
  {
   "cell_type": "code",
   "execution_count": 182,
   "id": "30b6547b-eabd-4e99-9fd7-e01a44c0f7a6",
   "metadata": {},
   "outputs": [
    {
     "data": {
      "text/plain": [
       "pub_rec_bankruptcies\n",
       "0.0    37339\n",
       "1.0     1674\n",
       "2.0        7\n",
       "Name: count, dtype: int64"
      ]
     },
     "execution_count": 182,
     "metadata": {},
     "output_type": "execute_result"
    }
   ],
   "source": [
    "# Analysing 'pub_rec_bankruptcies' column\n",
    "loandf['pub_rec_bankruptcies'].value_counts()"
   ]
  },
  {
   "cell_type": "code",
   "execution_count": 183,
   "id": "fef6cef8-c461-4577-807f-c4bb6a99ddf0",
   "metadata": {},
   "outputs": [
    {
     "data": {
      "text/plain": [
       "697"
      ]
     },
     "execution_count": 183,
     "metadata": {},
     "output_type": "execute_result"
    }
   ],
   "source": [
    "loandf['pub_rec_bankruptcies'].isna().sum()"
   ]
  },
  {
   "cell_type": "code",
   "execution_count": 184,
   "id": "ae0d2e67-c38e-4530-b4d3-754fbfc87591",
   "metadata": {},
   "outputs": [
    {
     "data": {
      "text/plain": [
       "pub_rec_bankruptcies\n",
       "0.0    38036\n",
       "1.0     1674\n",
       "2.0        7\n",
       "Name: count, dtype: int64"
      ]
     },
     "execution_count": 184,
     "metadata": {},
     "output_type": "execute_result"
    }
   ],
   "source": [
    "# Manipulating the pub_rec_bankruptcies column with mode value\n",
    "loandf['pub_rec_bankruptcies'] = loandf['pub_rec_bankruptcies'].fillna(loandf['pub_rec_bankruptcies'].mode()[0])\n",
    "loandf['pub_rec_bankruptcies'].value_counts()"
   ]
  },
  {
   "cell_type": "code",
   "execution_count": 185,
   "id": "ed8a225e-06ed-4373-ac39-466060c08ccd",
   "metadata": {},
   "outputs": [
    {
     "data": {
      "text/plain": [
       "0"
      ]
     },
     "execution_count": 185,
     "metadata": {},
     "output_type": "execute_result"
    }
   ],
   "source": [
    "loandf['pub_rec_bankruptcies'].isna().sum()"
   ]
  },
  {
   "cell_type": "code",
   "execution_count": 186,
   "id": "76237643-e743-4e63-9b79-198371656435",
   "metadata": {},
   "outputs": [
    {
     "data": {
      "text/plain": [
       "loan_status\n",
       "Fully Paid     32950\n",
       "Charged Off     5627\n",
       "Current         1140\n",
       "Name: count, dtype: int64"
      ]
     },
     "execution_count": 186,
     "metadata": {},
     "output_type": "execute_result"
    }
   ],
   "source": [
    "loandf[\"loan_status\"].value_counts()"
   ]
  },
  {
   "cell_type": "code",
   "execution_count": 187,
   "id": "1bf30de2-325a-404a-a8df-1ef50985ba6e",
   "metadata": {},
   "outputs": [],
   "source": [
    "#Remove Rows with Loan status as current as its still running loans and cant be used for analysis\n",
    "loandf = loandf[~(loandf['loan_status'] == 'Current')]"
   ]
  },
  {
   "cell_type": "code",
   "execution_count": 188,
   "id": "c0801047-4c4d-4e21-b0a3-44b84c5197cc",
   "metadata": {},
   "outputs": [
    {
     "data": {
      "text/plain": [
       "loan_status\n",
       "Fully Paid     32950\n",
       "Charged Off     5627\n",
       "Name: count, dtype: int64"
      ]
     },
     "execution_count": 188,
     "metadata": {},
     "output_type": "execute_result"
    }
   ],
   "source": [
    "loandf[\"loan_status\"].value_counts()"
   ]
  },
  {
   "cell_type": "code",
   "execution_count": 189,
   "id": "2442ec81-9c5d-47ba-8556-3bcf864ea8a0",
   "metadata": {},
   "outputs": [
    {
     "data": {
      "text/plain": [
       "id                               0\n",
       "member_id                        0\n",
       "loan_amnt                        0\n",
       "funded_amnt                      0\n",
       "funded_amnt_inv                  0\n",
       "term                             0\n",
       "int_rate                         0\n",
       "installment                      0\n",
       "grade                            0\n",
       "sub_grade                        0\n",
       "emp_title                     2386\n",
       "emp_length                    1033\n",
       "home_ownership                   0\n",
       "annual_inc                       0\n",
       "verification_status              0\n",
       "issue_d                          0\n",
       "loan_status                      0\n",
       "pymnt_plan                       0\n",
       "url                              0\n",
       "purpose                          0\n",
       "title                           11\n",
       "zip_code                         0\n",
       "addr_state                       0\n",
       "dti                              0\n",
       "delinq_2yrs                      0\n",
       "earliest_cr_line                 0\n",
       "inq_last_6mths                   0\n",
       "open_acc                         0\n",
       "pub_rec                          0\n",
       "revol_bal                        0\n",
       "revol_util                      50\n",
       "total_acc                        0\n",
       "initial_list_status              0\n",
       "out_prncp                        0\n",
       "out_prncp_inv                    0\n",
       "total_pymnt                      0\n",
       "total_pymnt_inv                  0\n",
       "total_rec_prncp                  0\n",
       "total_rec_int                    0\n",
       "total_rec_late_fee               0\n",
       "recoveries                       0\n",
       "collection_recovery_fee          0\n",
       "last_pymnt_d                    71\n",
       "last_pymnt_amnt                  0\n",
       "last_credit_pull_d               2\n",
       "collections_12_mths_ex_med      56\n",
       "policy_code                      0\n",
       "application_type                 0\n",
       "acc_now_delinq                   0\n",
       "chargeoff_within_12_mths        56\n",
       "delinq_amnt                      0\n",
       "pub_rec_bankruptcies             0\n",
       "tax_liens                       39\n",
       "dtype: int64"
      ]
     },
     "execution_count": 189,
     "metadata": {},
     "output_type": "execute_result"
    }
   ],
   "source": [
    "#Check for null values again \n",
    "loandf.isnull().sum()"
   ]
  },
  {
   "cell_type": "code",
   "execution_count": 190,
   "id": "efc3a3f5-4eee-40fb-8fc2-817bb8e2cbe6",
   "metadata": {},
   "outputs": [
    {
     "data": {
      "text/plain": [
       "count                  38566\n",
       "unique                 19297\n",
       "top       Debt Consolidation\n",
       "freq                    2090\n",
       "Name: title, dtype: object"
      ]
     },
     "execution_count": 190,
     "metadata": {},
     "output_type": "execute_result"
    }
   ],
   "source": [
    "loandf[\"title\"].describe()"
   ]
  },
  {
   "cell_type": "code",
   "execution_count": 191,
   "id": "d32397d3-1623-4743-bbc2-2611112c180d",
   "metadata": {},
   "outputs": [
    {
     "data": {
      "text/plain": [
       "(38577, 52)"
      ]
     },
     "execution_count": 191,
     "metadata": {},
     "output_type": "execute_result"
    }
   ],
   "source": [
    "# Title is also Text column which has lot of unique values. Drop the column\n",
    "loandf.drop(columns=['title'],inplace=True)\n",
    "loandf.shape"
   ]
  },
  {
   "cell_type": "code",
   "execution_count": 192,
   "id": "97e425bf-0ed7-485a-ad42-a3f3e66ac193",
   "metadata": {},
   "outputs": [
    {
     "data": {
      "text/plain": [
       "Index(['id', 'member_id', 'loan_amnt', 'funded_amnt', 'funded_amnt_inv',\n",
       "       'term', 'int_rate', 'installment', 'grade', 'sub_grade', 'emp_title',\n",
       "       'emp_length', 'home_ownership', 'annual_inc', 'verification_status',\n",
       "       'issue_d', 'loan_status', 'pymnt_plan', 'url', 'purpose', 'zip_code',\n",
       "       'addr_state', 'dti', 'delinq_2yrs', 'earliest_cr_line',\n",
       "       'inq_last_6mths', 'open_acc', 'pub_rec', 'revol_bal', 'revol_util',\n",
       "       'total_acc', 'initial_list_status', 'out_prncp', 'out_prncp_inv',\n",
       "       'total_pymnt', 'total_pymnt_inv', 'total_rec_prncp', 'total_rec_int',\n",
       "       'total_rec_late_fee', 'recoveries', 'collection_recovery_fee',\n",
       "       'last_pymnt_d', 'last_pymnt_amnt', 'last_credit_pull_d',\n",
       "       'collections_12_mths_ex_med', 'policy_code', 'application_type',\n",
       "       'acc_now_delinq', 'chargeoff_within_12_mths', 'delinq_amnt',\n",
       "       'pub_rec_bankruptcies', 'tax_liens'],\n",
       "      dtype='object')"
      ]
     },
     "execution_count": 192,
     "metadata": {},
     "output_type": "execute_result"
    }
   ],
   "source": [
    "loandf.columns"
   ]
  },
  {
   "cell_type": "code",
   "execution_count": 193,
   "id": "12dbb72a-e5ab-4a3d-afc2-b2d228eff546",
   "metadata": {},
   "outputs": [
    {
     "data": {
      "text/plain": [
       "tax_liens                         1\n",
       "initial_list_status               1\n",
       "out_prncp                         1\n",
       "out_prncp_inv                     1\n",
       "collections_12_mths_ex_med        1\n",
       "policy_code                       1\n",
       "pymnt_plan                        1\n",
       "application_type                  1\n",
       "acc_now_delinq                    1\n",
       "chargeoff_within_12_mths          1\n",
       "delinq_amnt                       1\n",
       "loan_status                       2\n",
       "term                              2\n",
       "verification_status               3\n",
       "pub_rec_bankruptcies              3\n",
       "home_ownership                    5\n",
       "pub_rec                           5\n",
       "grade                             7\n",
       "inq_last_6mths                    9\n",
       "delinq_2yrs                      11\n",
       "emp_length                       11\n",
       "purpose                          14\n",
       "sub_grade                        35\n",
       "open_acc                         40\n",
       "addr_state                       50\n",
       "issue_d                          55\n",
       "total_acc                        82\n",
       "last_pymnt_d                    101\n",
       "last_credit_pull_d              106\n",
       "int_rate                        370\n",
       "earliest_cr_line                524\n",
       "zip_code                        822\n",
       "loan_amnt                       870\n",
       "funded_amnt                    1019\n",
       "revol_util                     1088\n",
       "total_rec_late_fee             1320\n",
       "collection_recovery_fee        2616\n",
       "dti                            2853\n",
       "recoveries                     4040\n",
       "annual_inc                     5215\n",
       "total_rec_prncp                6841\n",
       "funded_amnt_inv                8050\n",
       "installment                   15022\n",
       "revol_bal                     21275\n",
       "emp_title                     28027\n",
       "total_rec_int                 34025\n",
       "last_pymnt_amnt               34418\n",
       "total_pymnt_inv               36387\n",
       "total_pymnt                   36714\n",
       "member_id                     38577\n",
       "url                           38577\n",
       "id                            38577\n",
       "dtype: int64"
      ]
     },
     "execution_count": 193,
     "metadata": {},
     "output_type": "execute_result"
    }
   ],
   "source": [
    "loandf.nunique().sort_values()"
   ]
  },
  {
   "cell_type": "code",
   "execution_count": 277,
   "id": "b45a4253-1127-473c-aee6-fd75e6d43fd3",
   "metadata": {},
   "outputs": [],
   "source": [
    "#Subset the Loan Data by removing Behavioural Data columns and columns that have unique values \n",
    "loandfNew = loandf[['id', #'member_id'\n",
    "              'loan_amnt', 'funded_amnt', 'funded_amnt_inv','term', 'int_rate', 'installment', 'grade',\n",
    "              'sub_grade',\n",
    "              'emp_title', 'emp_length', 'home_ownership', 'annual_inc', 'verification_status',\n",
    "               'issue_d', 'loan_status', #'pymnt_plan', \n",
    "               # 'url',\n",
    "                'purpose', 'zip_code',\n",
    "               'addr_state', 'dti', # 'delinq_2yrs', 'earliest_cr_line',\n",
    "               'inq_last_6mths', 'open_acc', 'pub_rec', 'revol_bal', 'revol_util',\n",
    "               'total_acc', #'initial_list_status', 'out_prncp', 'out_prncp_inv',\n",
    "               #'total_pymnt', 'total_pymnt_inv', 'total_rec_prncp', 'total_rec_int',\n",
    "               #'total_rec_late_fee', 'recoveries', 'collection_recovery_fee',\n",
    "               #'last_pymnt_d', 'last_pymnt_amnt', 'last_credit_pull_d',\n",
    "               #'collections_12_mths_ex_med', #'policy_code', 'application_type',\n",
    "               #'acc_now_delinq', #'chargeoff_within_12_mths', 'delinq_amnt',\n",
    "               'pub_rec_bankruptcies', #'tax_liens'\n",
    "                ]]"
   ]
  },
  {
   "cell_type": "code",
   "execution_count": 278,
   "id": "ec107653-c1e5-447d-a5fe-1cd04011896d",
   "metadata": {},
   "outputs": [
    {
     "data": {
      "text/plain": [
       "(38577, 27)"
      ]
     },
     "execution_count": 278,
     "metadata": {},
     "output_type": "execute_result"
    }
   ],
   "source": [
    "loandfNew.shape"
   ]
  },
  {
   "cell_type": "code",
   "execution_count": 279,
   "id": "4137c89d-bc6f-46b1-9705-a97040216542",
   "metadata": {},
   "outputs": [
    {
     "data": {
      "text/html": [
       "<div>\n",
       "<style scoped>\n",
       "    .dataframe tbody tr th:only-of-type {\n",
       "        vertical-align: middle;\n",
       "    }\n",
       "\n",
       "    .dataframe tbody tr th {\n",
       "        vertical-align: top;\n",
       "    }\n",
       "\n",
       "    .dataframe thead th {\n",
       "        text-align: right;\n",
       "    }\n",
       "</style>\n",
       "<table border=\"1\" class=\"dataframe\">\n",
       "  <thead>\n",
       "    <tr style=\"text-align: right;\">\n",
       "      <th></th>\n",
       "      <th>id</th>\n",
       "      <th>loan_amnt</th>\n",
       "      <th>funded_amnt</th>\n",
       "      <th>funded_amnt_inv</th>\n",
       "      <th>term</th>\n",
       "      <th>int_rate</th>\n",
       "      <th>installment</th>\n",
       "      <th>grade</th>\n",
       "      <th>sub_grade</th>\n",
       "      <th>emp_title</th>\n",
       "      <th>...</th>\n",
       "      <th>zip_code</th>\n",
       "      <th>addr_state</th>\n",
       "      <th>dti</th>\n",
       "      <th>inq_last_6mths</th>\n",
       "      <th>open_acc</th>\n",
       "      <th>pub_rec</th>\n",
       "      <th>revol_bal</th>\n",
       "      <th>revol_util</th>\n",
       "      <th>total_acc</th>\n",
       "      <th>pub_rec_bankruptcies</th>\n",
       "    </tr>\n",
       "  </thead>\n",
       "  <tbody>\n",
       "    <tr>\n",
       "      <th>0</th>\n",
       "      <td>1077501</td>\n",
       "      <td>5000</td>\n",
       "      <td>5000</td>\n",
       "      <td>4975.0</td>\n",
       "      <td>36 months</td>\n",
       "      <td>10.65%</td>\n",
       "      <td>162.87</td>\n",
       "      <td>B</td>\n",
       "      <td>B2</td>\n",
       "      <td>NaN</td>\n",
       "      <td>...</td>\n",
       "      <td>860xx</td>\n",
       "      <td>AZ</td>\n",
       "      <td>27.65</td>\n",
       "      <td>1</td>\n",
       "      <td>3</td>\n",
       "      <td>0</td>\n",
       "      <td>13648</td>\n",
       "      <td>83.70%</td>\n",
       "      <td>9</td>\n",
       "      <td>0.0</td>\n",
       "    </tr>\n",
       "    <tr>\n",
       "      <th>1</th>\n",
       "      <td>1077430</td>\n",
       "      <td>2500</td>\n",
       "      <td>2500</td>\n",
       "      <td>2500.0</td>\n",
       "      <td>60 months</td>\n",
       "      <td>15.27%</td>\n",
       "      <td>59.83</td>\n",
       "      <td>C</td>\n",
       "      <td>C4</td>\n",
       "      <td>Ryder</td>\n",
       "      <td>...</td>\n",
       "      <td>309xx</td>\n",
       "      <td>GA</td>\n",
       "      <td>1.00</td>\n",
       "      <td>5</td>\n",
       "      <td>3</td>\n",
       "      <td>0</td>\n",
       "      <td>1687</td>\n",
       "      <td>9.40%</td>\n",
       "      <td>4</td>\n",
       "      <td>0.0</td>\n",
       "    </tr>\n",
       "    <tr>\n",
       "      <th>2</th>\n",
       "      <td>1077175</td>\n",
       "      <td>2400</td>\n",
       "      <td>2400</td>\n",
       "      <td>2400.0</td>\n",
       "      <td>36 months</td>\n",
       "      <td>15.96%</td>\n",
       "      <td>84.33</td>\n",
       "      <td>C</td>\n",
       "      <td>C5</td>\n",
       "      <td>NaN</td>\n",
       "      <td>...</td>\n",
       "      <td>606xx</td>\n",
       "      <td>IL</td>\n",
       "      <td>8.72</td>\n",
       "      <td>2</td>\n",
       "      <td>2</td>\n",
       "      <td>0</td>\n",
       "      <td>2956</td>\n",
       "      <td>98.50%</td>\n",
       "      <td>10</td>\n",
       "      <td>0.0</td>\n",
       "    </tr>\n",
       "    <tr>\n",
       "      <th>3</th>\n",
       "      <td>1076863</td>\n",
       "      <td>10000</td>\n",
       "      <td>10000</td>\n",
       "      <td>10000.0</td>\n",
       "      <td>36 months</td>\n",
       "      <td>13.49%</td>\n",
       "      <td>339.31</td>\n",
       "      <td>C</td>\n",
       "      <td>C1</td>\n",
       "      <td>AIR RESOURCES BOARD</td>\n",
       "      <td>...</td>\n",
       "      <td>917xx</td>\n",
       "      <td>CA</td>\n",
       "      <td>20.00</td>\n",
       "      <td>1</td>\n",
       "      <td>10</td>\n",
       "      <td>0</td>\n",
       "      <td>5598</td>\n",
       "      <td>21%</td>\n",
       "      <td>37</td>\n",
       "      <td>0.0</td>\n",
       "    </tr>\n",
       "    <tr>\n",
       "      <th>5</th>\n",
       "      <td>1075269</td>\n",
       "      <td>5000</td>\n",
       "      <td>5000</td>\n",
       "      <td>5000.0</td>\n",
       "      <td>36 months</td>\n",
       "      <td>7.90%</td>\n",
       "      <td>156.46</td>\n",
       "      <td>A</td>\n",
       "      <td>A4</td>\n",
       "      <td>Veolia Transportaton</td>\n",
       "      <td>...</td>\n",
       "      <td>852xx</td>\n",
       "      <td>AZ</td>\n",
       "      <td>11.20</td>\n",
       "      <td>3</td>\n",
       "      <td>9</td>\n",
       "      <td>0</td>\n",
       "      <td>7963</td>\n",
       "      <td>28.30%</td>\n",
       "      <td>12</td>\n",
       "      <td>0.0</td>\n",
       "    </tr>\n",
       "  </tbody>\n",
       "</table>\n",
       "<p>5 rows × 27 columns</p>\n",
       "</div>"
      ],
      "text/plain": [
       "        id  loan_amnt  funded_amnt  funded_amnt_inv        term int_rate  \\\n",
       "0  1077501       5000         5000           4975.0   36 months   10.65%   \n",
       "1  1077430       2500         2500           2500.0   60 months   15.27%   \n",
       "2  1077175       2400         2400           2400.0   36 months   15.96%   \n",
       "3  1076863      10000        10000          10000.0   36 months   13.49%   \n",
       "5  1075269       5000         5000           5000.0   36 months    7.90%   \n",
       "\n",
       "   installment grade sub_grade             emp_title  ... zip_code addr_state  \\\n",
       "0       162.87     B        B2                   NaN  ...    860xx         AZ   \n",
       "1        59.83     C        C4                 Ryder  ...    309xx         GA   \n",
       "2        84.33     C        C5                   NaN  ...    606xx         IL   \n",
       "3       339.31     C        C1   AIR RESOURCES BOARD  ...    917xx         CA   \n",
       "5       156.46     A        A4  Veolia Transportaton  ...    852xx         AZ   \n",
       "\n",
       "     dti inq_last_6mths open_acc pub_rec revol_bal revol_util total_acc  \\\n",
       "0  27.65              1        3       0     13648     83.70%         9   \n",
       "1   1.00              5        3       0      1687      9.40%         4   \n",
       "2   8.72              2        2       0      2956     98.50%        10   \n",
       "3  20.00              1       10       0      5598        21%        37   \n",
       "5  11.20              3        9       0      7963     28.30%        12   \n",
       "\n",
       "   pub_rec_bankruptcies  \n",
       "0                   0.0  \n",
       "1                   0.0  \n",
       "2                   0.0  \n",
       "3                   0.0  \n",
       "5                   0.0  \n",
       "\n",
       "[5 rows x 27 columns]"
      ]
     },
     "execution_count": 279,
     "metadata": {},
     "output_type": "execute_result"
    }
   ],
   "source": [
    "loandfNew.head()"
   ]
  },
  {
   "cell_type": "code",
   "execution_count": 280,
   "id": "b2672edb-d65f-44a9-bd12-2d2e293dd37f",
   "metadata": {},
   "outputs": [
    {
     "data": {
      "text/plain": [
       "Index(['id', 'loan_amnt', 'funded_amnt', 'funded_amnt_inv', 'term', 'int_rate',\n",
       "       'installment', 'grade', 'sub_grade', 'emp_title', 'emp_length',\n",
       "       'home_ownership', 'annual_inc', 'verification_status', 'issue_d',\n",
       "       'loan_status', 'purpose', 'zip_code', 'addr_state', 'dti',\n",
       "       'inq_last_6mths', 'open_acc', 'pub_rec', 'revol_bal', 'revol_util',\n",
       "       'total_acc', 'pub_rec_bankruptcies'],\n",
       "      dtype='object')"
      ]
     },
     "execution_count": 280,
     "metadata": {},
     "output_type": "execute_result"
    }
   ],
   "source": [
    "loandfNew.columns"
   ]
  },
  {
   "cell_type": "markdown",
   "id": "37be317a-b2e8-4886-b118-f7a0319cc12a",
   "metadata": {},
   "source": [
    "## Handling Missing values\n",
    " - Missing values are present in \"emp_length\", \"revol_util\".\n",
    " - Check if mode(emp_len) and frequency of emp_len is higher to replace the missing values with mode()"
   ]
  },
  {
   "cell_type": "code",
   "execution_count": 281,
   "id": "01100d72-4fe3-40c5-b999-7a1a12c8dbd5",
   "metadata": {},
   "outputs": [
    {
     "name": "stdout",
     "output_type": "stream",
     "text": [
      "Mode : 10+ years\n"
     ]
    },
    {
     "data": {
      "text/plain": [
       "emp_length\n",
       "10+ years    8488\n",
       "< 1 year     4508\n",
       "2 years      4291\n",
       "3 years      4012\n",
       "4 years      3342\n",
       "5 years      3194\n",
       "1 year       3169\n",
       "6 years      2168\n",
       "7 years      1711\n",
       "8 years      1435\n",
       "9 years      1226\n",
       "Name: count, dtype: int64"
      ]
     },
     "execution_count": 281,
     "metadata": {},
     "output_type": "execute_result"
    }
   ],
   "source": [
    "print(\"Mode : \" + loandfNew['emp_length'].mode()[0])\n",
    "loandfNew['emp_length'].value_counts()"
   ]
  },
  {
   "cell_type": "code",
   "execution_count": 282,
   "id": "2877adb8-78d7-42ce-a79e-6c87bacf475c",
   "metadata": {},
   "outputs": [
    {
     "data": {
      "text/plain": [
       "0"
      ]
     },
     "execution_count": 282,
     "metadata": {},
     "output_type": "execute_result"
    }
   ],
   "source": [
    "loandfNew['emp_length'].fillna(loandfNew['emp_length'].mode()[0], inplace = True)\n",
    "loandfNew['emp_length'].isna().sum()"
   ]
  },
  {
   "cell_type": "markdown",
   "id": "cfa63ef0-f882-4593-9127-ddb41b1d21a9",
   "metadata": {},
   "source": [
    "### Standardize values\n",
    "Below four columns can be categorized as continuous variables, hence converting them into int/float case to case:\n",
    "1. revol_util: Standardise this value by trimming off % and convert to numeric value.\n",
    "2. int_rate: Standardise this value by trimming off % and convert to numeric value.\n",
    "3. term: Standardise this value by trimming off 'months' and convert to numeric value.\n",
    "4. emp_length: Standardise this value by trimming off 'years' and convert to numeric value. <1 year is treated as 0 and 10+ years is treated as 10."
   ]
  },
  {
   "cell_type": "code",
   "execution_count": 283,
   "id": "20de3daa-6394-4a35-bc3a-13891c6245d2",
   "metadata": {},
   "outputs": [],
   "source": [
    "loandfNew['revol_util'] = loandfNew['revol_util'].apply(lambda x : str(x))\n",
    "loandfNew['revol_util'] = loandfNew['revol_util'].apply(lambda x : float(0) if not x else float(x.split('%')[0]))"
   ]
  },
  {
   "cell_type": "code",
   "execution_count": 284,
   "id": "c6acc0e8-f06b-40a7-ac47-7806fd43093f",
   "metadata": {},
   "outputs": [],
   "source": [
    "loandfNew['int_rate'] = loandfNew['int_rate'].apply(lambda x : str(x))\n",
    "loandfNew['int_rate'] = loandfNew['int_rate'].apply(lambda x : float(0) if not x else float(x.split('%')[0]))"
   ]
  },
  {
   "cell_type": "code",
   "execution_count": 285,
   "id": "2311f176-038d-4e2a-9ed3-62372e34e18c",
   "metadata": {
    "scrolled": true
   },
   "outputs": [],
   "source": [
    "loandfNew['term'] = loandfNew['term'].apply(lambda x : str(x))\n",
    "loandfNew['term'] = loandfNew['term'].apply(lambda x : int(0) if not x else int(x.split('months')[0]))"
   ]
  },
  {
   "cell_type": "code",
   "execution_count": 286,
   "id": "baa71a02-60c7-434d-8477-c7592e9f7e20",
   "metadata": {},
   "outputs": [],
   "source": [
    "loandfNew['emp_length'] = loandfNew['emp_length'].apply(lambda x : str(x))\n",
    "loandfNew['emp_length'] = loandfNew['emp_length'].apply(lambda x: int(0) if \"<\" in x else (int((x.split('+')[0])) if \"+\" in x else int(x.split()[0])))"
   ]
  },
  {
   "cell_type": "code",
   "execution_count": 287,
   "id": "d60b34ba-4ae6-4b39-baa1-5dfb7585d784",
   "metadata": {},
   "outputs": [
    {
     "data": {
      "text/html": [
       "<div>\n",
       "<style scoped>\n",
       "    .dataframe tbody tr th:only-of-type {\n",
       "        vertical-align: middle;\n",
       "    }\n",
       "\n",
       "    .dataframe tbody tr th {\n",
       "        vertical-align: top;\n",
       "    }\n",
       "\n",
       "    .dataframe thead th {\n",
       "        text-align: right;\n",
       "    }\n",
       "</style>\n",
       "<table border=\"1\" class=\"dataframe\">\n",
       "  <thead>\n",
       "    <tr style=\"text-align: right;\">\n",
       "      <th></th>\n",
       "      <th>id</th>\n",
       "      <th>loan_amnt</th>\n",
       "      <th>funded_amnt</th>\n",
       "      <th>funded_amnt_inv</th>\n",
       "      <th>term</th>\n",
       "      <th>int_rate</th>\n",
       "      <th>installment</th>\n",
       "      <th>grade</th>\n",
       "      <th>sub_grade</th>\n",
       "      <th>emp_title</th>\n",
       "      <th>...</th>\n",
       "      <th>zip_code</th>\n",
       "      <th>addr_state</th>\n",
       "      <th>dti</th>\n",
       "      <th>inq_last_6mths</th>\n",
       "      <th>open_acc</th>\n",
       "      <th>pub_rec</th>\n",
       "      <th>revol_bal</th>\n",
       "      <th>revol_util</th>\n",
       "      <th>total_acc</th>\n",
       "      <th>pub_rec_bankruptcies</th>\n",
       "    </tr>\n",
       "  </thead>\n",
       "  <tbody>\n",
       "    <tr>\n",
       "      <th>0</th>\n",
       "      <td>1077501</td>\n",
       "      <td>5000</td>\n",
       "      <td>5000</td>\n",
       "      <td>4975.0</td>\n",
       "      <td>36</td>\n",
       "      <td>10.65</td>\n",
       "      <td>162.87</td>\n",
       "      <td>B</td>\n",
       "      <td>B2</td>\n",
       "      <td>NaN</td>\n",
       "      <td>...</td>\n",
       "      <td>860xx</td>\n",
       "      <td>AZ</td>\n",
       "      <td>27.65</td>\n",
       "      <td>1</td>\n",
       "      <td>3</td>\n",
       "      <td>0</td>\n",
       "      <td>13648</td>\n",
       "      <td>83.7</td>\n",
       "      <td>9</td>\n",
       "      <td>0.0</td>\n",
       "    </tr>\n",
       "    <tr>\n",
       "      <th>1</th>\n",
       "      <td>1077430</td>\n",
       "      <td>2500</td>\n",
       "      <td>2500</td>\n",
       "      <td>2500.0</td>\n",
       "      <td>60</td>\n",
       "      <td>15.27</td>\n",
       "      <td>59.83</td>\n",
       "      <td>C</td>\n",
       "      <td>C4</td>\n",
       "      <td>Ryder</td>\n",
       "      <td>...</td>\n",
       "      <td>309xx</td>\n",
       "      <td>GA</td>\n",
       "      <td>1.00</td>\n",
       "      <td>5</td>\n",
       "      <td>3</td>\n",
       "      <td>0</td>\n",
       "      <td>1687</td>\n",
       "      <td>9.4</td>\n",
       "      <td>4</td>\n",
       "      <td>0.0</td>\n",
       "    </tr>\n",
       "    <tr>\n",
       "      <th>2</th>\n",
       "      <td>1077175</td>\n",
       "      <td>2400</td>\n",
       "      <td>2400</td>\n",
       "      <td>2400.0</td>\n",
       "      <td>36</td>\n",
       "      <td>15.96</td>\n",
       "      <td>84.33</td>\n",
       "      <td>C</td>\n",
       "      <td>C5</td>\n",
       "      <td>NaN</td>\n",
       "      <td>...</td>\n",
       "      <td>606xx</td>\n",
       "      <td>IL</td>\n",
       "      <td>8.72</td>\n",
       "      <td>2</td>\n",
       "      <td>2</td>\n",
       "      <td>0</td>\n",
       "      <td>2956</td>\n",
       "      <td>98.5</td>\n",
       "      <td>10</td>\n",
       "      <td>0.0</td>\n",
       "    </tr>\n",
       "    <tr>\n",
       "      <th>3</th>\n",
       "      <td>1076863</td>\n",
       "      <td>10000</td>\n",
       "      <td>10000</td>\n",
       "      <td>10000.0</td>\n",
       "      <td>36</td>\n",
       "      <td>13.49</td>\n",
       "      <td>339.31</td>\n",
       "      <td>C</td>\n",
       "      <td>C1</td>\n",
       "      <td>AIR RESOURCES BOARD</td>\n",
       "      <td>...</td>\n",
       "      <td>917xx</td>\n",
       "      <td>CA</td>\n",
       "      <td>20.00</td>\n",
       "      <td>1</td>\n",
       "      <td>10</td>\n",
       "      <td>0</td>\n",
       "      <td>5598</td>\n",
       "      <td>21.0</td>\n",
       "      <td>37</td>\n",
       "      <td>0.0</td>\n",
       "    </tr>\n",
       "    <tr>\n",
       "      <th>5</th>\n",
       "      <td>1075269</td>\n",
       "      <td>5000</td>\n",
       "      <td>5000</td>\n",
       "      <td>5000.0</td>\n",
       "      <td>36</td>\n",
       "      <td>7.90</td>\n",
       "      <td>156.46</td>\n",
       "      <td>A</td>\n",
       "      <td>A4</td>\n",
       "      <td>Veolia Transportaton</td>\n",
       "      <td>...</td>\n",
       "      <td>852xx</td>\n",
       "      <td>AZ</td>\n",
       "      <td>11.20</td>\n",
       "      <td>3</td>\n",
       "      <td>9</td>\n",
       "      <td>0</td>\n",
       "      <td>7963</td>\n",
       "      <td>28.3</td>\n",
       "      <td>12</td>\n",
       "      <td>0.0</td>\n",
       "    </tr>\n",
       "  </tbody>\n",
       "</table>\n",
       "<p>5 rows × 27 columns</p>\n",
       "</div>"
      ],
      "text/plain": [
       "        id  loan_amnt  funded_amnt  funded_amnt_inv  term  int_rate  \\\n",
       "0  1077501       5000         5000           4975.0    36     10.65   \n",
       "1  1077430       2500         2500           2500.0    60     15.27   \n",
       "2  1077175       2400         2400           2400.0    36     15.96   \n",
       "3  1076863      10000        10000          10000.0    36     13.49   \n",
       "5  1075269       5000         5000           5000.0    36      7.90   \n",
       "\n",
       "   installment grade sub_grade             emp_title  ...  zip_code  \\\n",
       "0       162.87     B        B2                   NaN  ...     860xx   \n",
       "1        59.83     C        C4                 Ryder  ...     309xx   \n",
       "2        84.33     C        C5                   NaN  ...     606xx   \n",
       "3       339.31     C        C1   AIR RESOURCES BOARD  ...     917xx   \n",
       "5       156.46     A        A4  Veolia Transportaton  ...     852xx   \n",
       "\n",
       "  addr_state    dti inq_last_6mths open_acc pub_rec revol_bal revol_util  \\\n",
       "0         AZ  27.65              1        3       0     13648       83.7   \n",
       "1         GA   1.00              5        3       0      1687        9.4   \n",
       "2         IL   8.72              2        2       0      2956       98.5   \n",
       "3         CA  20.00              1       10       0      5598       21.0   \n",
       "5         AZ  11.20              3        9       0      7963       28.3   \n",
       "\n",
       "  total_acc  pub_rec_bankruptcies  \n",
       "0         9                   0.0  \n",
       "1         4                   0.0  \n",
       "2        10                   0.0  \n",
       "3        37                   0.0  \n",
       "5        12                   0.0  \n",
       "\n",
       "[5 rows x 27 columns]"
      ]
     },
     "execution_count": 287,
     "metadata": {},
     "output_type": "execute_result"
    }
   ],
   "source": [
    "loandfNew.head()"
   ]
  },
  {
   "cell_type": "markdown",
   "id": "113fa90b-8fbb-441d-bc37-af5f5a6e046d",
   "metadata": {},
   "source": [
    "### Check for outliers in each of the columns with continuous variables\n",
    "Checking for below columns:\n",
    "- annual_inc\n",
    "- dti\n",
    "- loan_amnt\n",
    "- funded_amnt_inv"
   ]
  },
  {
   "cell_type": "code",
   "execution_count": 288,
   "id": "28824814-8861-4f2d-830c-6abb3352d8c0",
   "metadata": {},
   "outputs": [
    {
     "data": {
      "text/plain": [
       "<Axes: >"
      ]
     },
     "execution_count": 288,
     "metadata": {},
     "output_type": "execute_result"
    },
    {
     "data": {
      "image/png": "[encoded data removed]",
      "text/plain": [
       "<Figure size 640x480 with 1 Axes>"
      ]
     },
     "metadata": {},
     "output_type": "display_data"
    }
   ],
   "source": [
    "# Outlier check for annual_inc\n",
    "sns.boxplot(loandfNew['annual_inc'])"
   ]
  },
  {
   "cell_type": "code",
   "execution_count": 289,
   "id": "0f3d709e-84f7-4c3d-8fa1-bef6e0ffbaa8",
   "metadata": {},
   "outputs": [
    {
     "data": {
      "text/plain": [
       "0.50     58868.0\n",
       "0.75     82000.0\n",
       "0.90    115000.0\n",
       "0.95    140004.0\n",
       "0.96    150000.0\n",
       "0.97    165000.0\n",
       "0.98    187000.0\n",
       "0.99    234144.0\n",
       "Name: annual_inc, dtype: float64"
      ]
     },
     "execution_count": 289,
     "metadata": {},
     "output_type": "execute_result"
    }
   ],
   "source": [
    "loandfNew['annual_inc'].quantile([0.5, 0.75, 0.90, 0.95, 0.96, 0.97, 0.98, 0.99])"
   ]
  },
  {
   "cell_type": "code",
   "execution_count": 290,
   "id": "60a4514e-eee2-4af9-aff0-4065d558f2df",
   "metadata": {},
   "outputs": [
    {
     "data": {
      "text/plain": [
       "<Axes: >"
      ]
     },
     "execution_count": 290,
     "metadata": {},
     "output_type": "execute_result"
    },
    {
     "data": {
      "image/png": "[encoded data removed]",
      "text/plain": [
       "<Figure size 640x480 with 1 Axes>"
      ]
     },
     "metadata": {},
     "output_type": "display_data"
    }
   ],
   "source": [
    "# Data above 96th percentile looks to be outliers, hence removing them and replotting again.\n",
    "loandfNew = loandfNew[loandfNew['annual_inc'] <= loandfNew['annual_inc'].quantile(0.96)]\n",
    "sns.boxplot(loandfNew['annual_inc'])"
   ]
  },
  {
   "cell_type": "code",
   "execution_count": 291,
   "id": "3c044cf4-5f0b-4bbb-a928-1212c1c81de6",
   "metadata": {},
   "outputs": [
    {
     "data": {
      "text/plain": [
       "<Axes: >"
      ]
     },
     "execution_count": 291,
     "metadata": {},
     "output_type": "execute_result"
    },
    {
     "data": {
      "image/png": "[encoded data removed]",
      "text/plain": [
       "<Figure size 640x480 with 1 Axes>"
      ]
     },
     "metadata": {},
     "output_type": "display_data"
    }
   ],
   "source": [
    "# Outlier check for dti\n",
    "sns.boxplot(loandfNew['dti'])"
   ]
  },
  {
   "cell_type": "code",
   "execution_count": 292,
   "id": "c40ab286-7caa-44a7-8019-62e11ea18ec8",
   "metadata": {},
   "outputs": [],
   "source": [
    "# Clearly no outliers observed in 'dti' column."
   ]
  },
  {
   "cell_type": "code",
   "execution_count": 293,
   "id": "7c640bf8-eb3c-4194-adbb-e7739d5c0a13",
   "metadata": {},
   "outputs": [
    {
     "data": {
      "text/plain": [
       "<Axes: >"
      ]
     },
     "execution_count": 293,
     "metadata": {},
     "output_type": "execute_result"
    },
    {
     "data": {
      "image/png": "[encoded data removed]",
      "text/plain": [
       "<Figure size 640x480 with 1 Axes>"
      ]
     },
     "metadata": {},
     "output_type": "display_data"
    }
   ],
   "source": [
    "# Outlier check for loan_amnt\n",
    "sns.boxplot(loandfNew['loan_amnt'])"
   ]
  },
  {
   "cell_type": "code",
   "execution_count": 294,
   "id": "a9b91a7d-d0a1-49ba-9c8d-adc47d92c8a4",
   "metadata": {},
   "outputs": [],
   "source": [
    "# loan_amnt data looks to be continous, hence, not taking any action here."
   ]
  },
  {
   "cell_type": "code",
   "execution_count": 295,
   "id": "1e326320-3429-4ead-b316-69adb59309bb",
   "metadata": {},
   "outputs": [
    {
     "data": {
      "text/plain": [
       "<Axes: >"
      ]
     },
     "execution_count": 295,
     "metadata": {},
     "output_type": "execute_result"
    },
    {
     "data": {
      "image/png": "[encoded data removed]",
      "text/plain": [
       "<Figure size 640x480 with 1 Axes>"
      ]
     },
     "metadata": {},
     "output_type": "display_data"
    }
   ],
   "source": [
    "# Outlier check for funded_amnt_inv\n",
    "sns.boxplot(loandfNew['funded_amnt_inv'])"
   ]
  },
  {
   "cell_type": "code",
   "execution_count": 296,
   "id": "53876e36-c2a1-4415-8540-8d70ac6c64df",
   "metadata": {},
   "outputs": [],
   "source": [
    "# funded_amnt_inv data looks to be continous, hence, not taking any action here."
   ]
  },
  {
   "cell_type": "code",
   "execution_count": 297,
   "id": "c55035fa-e20c-4e01-ac77-ccc8083ebad1",
   "metadata": {},
   "outputs": [
    {
     "data": {
      "text/plain": [
       "(37091, 27)"
      ]
     },
     "execution_count": 297,
     "metadata": {},
     "output_type": "execute_result"
    }
   ],
   "source": [
    "loandfNew.shape"
   ]
  },
  {
   "cell_type": "code",
   "execution_count": 298,
   "id": "2c2f36b7-3f83-439a-b5f3-61475f3a0ff5",
   "metadata": {},
   "outputs": [],
   "source": [
    "# Since 'emp_title' is not a category data , no proper conclusion can be drawn from as to how this might affect repayment of loans\n",
    "# Hence dropping this column\n",
    "loandfNew.drop(columns='emp_title', inplace=True)"
   ]
  },
  {
   "cell_type": "code",
   "execution_count": 299,
   "id": "6079ae7c-68d2-4103-a8bc-104a5fb0af32",
   "metadata": {},
   "outputs": [
    {
     "data": {
      "text/plain": [
       "(37091, 26)"
      ]
     },
     "execution_count": 299,
     "metadata": {},
     "output_type": "execute_result"
    }
   ],
   "source": [
    "loandfNew.shape"
   ]
  },
  {
   "cell_type": "code",
   "execution_count": 300,
   "id": "766fce55-2dff-443e-adf3-c1e0a9bbab08",
   "metadata": {},
   "outputs": [
    {
     "data": {
      "text/plain": [
       "id                       0\n",
       "loan_amnt                0\n",
       "funded_amnt              0\n",
       "funded_amnt_inv          0\n",
       "term                     0\n",
       "int_rate                 0\n",
       "installment              0\n",
       "grade                    0\n",
       "sub_grade                0\n",
       "emp_length               0\n",
       "home_ownership           0\n",
       "annual_inc               0\n",
       "verification_status      0\n",
       "issue_d                  0\n",
       "loan_status              0\n",
       "purpose                  0\n",
       "zip_code                 0\n",
       "addr_state               0\n",
       "dti                      0\n",
       "inq_last_6mths           0\n",
       "open_acc                 0\n",
       "pub_rec                  0\n",
       "revol_bal                0\n",
       "revol_util              49\n",
       "total_acc                0\n",
       "pub_rec_bankruptcies     0\n",
       "dtype: int64"
      ]
     },
     "execution_count": 300,
     "metadata": {},
     "output_type": "execute_result"
    }
   ],
   "source": [
    "loandfNew.isna().sum()"
   ]
  },
  {
   "cell_type": "code",
   "execution_count": 301,
   "id": "79f75b7a-52db-400c-9c4c-42a7d6c30923",
   "metadata": {},
   "outputs": [
    {
     "data": {
      "text/plain": [
       "count    37042.000000\n",
       "mean        48.660187\n",
       "std         28.297239\n",
       "min          0.000000\n",
       "25%         25.200000\n",
       "50%         49.000000\n",
       "75%         72.100000\n",
       "max         99.900000\n",
       "Name: revol_util, dtype: float64"
      ]
     },
     "execution_count": 301,
     "metadata": {},
     "output_type": "execute_result"
    }
   ],
   "source": [
    "# Getting the statistical info about the column\n",
    "loandfNew['revol_util'].describe()"
   ]
  },
  {
   "cell_type": "code",
   "execution_count": 302,
   "id": "75d0da8b-badd-455c-9476-e168e1be5d98",
   "metadata": {},
   "outputs": [],
   "source": [
    "# Filling the missing values with the mean\n",
    "loandfNew['revol_util'].fillna(loandfNew['revol_util'].mean(), inplace=True)"
   ]
  },
  {
   "cell_type": "code",
   "execution_count": 303,
   "id": "4ff457c4-babb-4144-81ea-b05e110836b6",
   "metadata": {},
   "outputs": [
    {
     "data": {
      "text/plain": [
       "id                      0\n",
       "loan_amnt               0\n",
       "funded_amnt             0\n",
       "funded_amnt_inv         0\n",
       "term                    0\n",
       "int_rate                0\n",
       "installment             0\n",
       "grade                   0\n",
       "sub_grade               0\n",
       "emp_length              0\n",
       "home_ownership          0\n",
       "annual_inc              0\n",
       "verification_status     0\n",
       "issue_d                 0\n",
       "loan_status             0\n",
       "purpose                 0\n",
       "zip_code                0\n",
       "addr_state              0\n",
       "dti                     0\n",
       "inq_last_6mths          0\n",
       "open_acc                0\n",
       "pub_rec                 0\n",
       "revol_bal               0\n",
       "revol_util              0\n",
       "total_acc               0\n",
       "pub_rec_bankruptcies    0\n",
       "dtype: int64"
      ]
     },
     "execution_count": 303,
     "metadata": {},
     "output_type": "execute_result"
    }
   ],
   "source": [
    "loandfNew.isna().sum()"
   ]
  },
  {
   "cell_type": "code",
   "execution_count": 304,
   "id": "e599c5be-3fcd-4b77-a1e2-ef2693d72d62",
   "metadata": {},
   "outputs": [],
   "source": [
    "# All the columns contain non-null values."
   ]
  },
  {
   "cell_type": "markdown",
   "id": "bc9c8995-a8a1-47d7-8300-1aa661e11568",
   "metadata": {},
   "source": [
    "### Analyzing various fields columns"
   ]
  },
  {
   "cell_type": "code",
   "execution_count": 305,
   "id": "d244a6d4-ec45-4b52-b5e4-2bee323e1b87",
   "metadata": {},
   "outputs": [
    {
     "data": {
      "text/plain": [
       "emp_length\n",
       "10    9040\n",
       "0     4382\n",
       "2     4138\n",
       "3     3869\n",
       "4     3232\n",
       "5     3077\n",
       "1     3073\n",
       "6     2092\n",
       "7     1657\n",
       "8     1360\n",
       "9     1171\n",
       "Name: count, dtype: int64"
      ]
     },
     "execution_count": 305,
     "metadata": {},
     "output_type": "execute_result"
    }
   ],
   "source": [
    "#Analyzing emp_length column\n",
    "loandfNew['emp_length'].value_counts()"
   ]
  },
  {
   "cell_type": "code",
   "execution_count": 306,
   "id": "053b3faa-19b5-4408-9714-69602347052c",
   "metadata": {},
   "outputs": [
    {
     "data": {
      "text/plain": [
       "int_rate\n",
       "10.99    878\n",
       "7.51     770\n",
       "11.49    763\n",
       "13.49    731\n",
       "7.88     707\n",
       "        ... \n",
       "16.96      1\n",
       "16.01      1\n",
       "17.34      1\n",
       "16.71      1\n",
       "15.01      1\n",
       "Name: count, Length: 370, dtype: int64"
      ]
     },
     "execution_count": 306,
     "metadata": {},
     "output_type": "execute_result"
    }
   ],
   "source": [
    "# Analysing 'int_rate' column\n",
    "loandfNew['int_rate'].value_counts()"
   ]
  },
  {
   "cell_type": "code",
   "execution_count": 307,
   "id": "e654cc52-649b-4666-8191-b3c63ebfcbd7",
   "metadata": {},
   "outputs": [
    {
     "data": {
      "text/plain": [
       "home_ownership\n",
       "RENT        18135\n",
       "MORTGAGE    15980\n",
       "OWN          2880\n",
       "OTHER          93\n",
       "NONE            3\n",
       "Name: count, dtype: int64"
      ]
     },
     "execution_count": 307,
     "metadata": {},
     "output_type": "execute_result"
    }
   ],
   "source": [
    "# For 'home_ownership' column\n",
    "loandfNew['home_ownership'].value_counts()"
   ]
  },
  {
   "cell_type": "code",
   "execution_count": 308,
   "id": "eeb16bc5-1fea-481d-83a8-44c2d162527c",
   "metadata": {},
   "outputs": [
    {
     "data": {
      "text/plain": [
       "loan_status\n",
       "Fully Paid     31627\n",
       "Charged Off     5464\n",
       "Name: count, dtype: int64"
      ]
     },
     "execution_count": 308,
     "metadata": {},
     "output_type": "execute_result"
    }
   ],
   "source": [
    "# Analysing 'loan_status' column\n",
    "loandfNew['loan_status'].value_counts()"
   ]
  },
  {
   "cell_type": "code",
   "execution_count": 309,
   "id": "93bb5aef-bd2f-4ca1-9092-a22e408271fe",
   "metadata": {},
   "outputs": [
    {
     "data": {
      "text/plain": [
       "verification_status\n",
       "Not Verified       16395\n",
       "Verified           11434\n",
       "Source Verified     9262\n",
       "Name: count, dtype: int64"
      ]
     },
     "execution_count": 309,
     "metadata": {},
     "output_type": "execute_result"
    }
   ],
   "source": [
    "# Analysing 'verification_status' column\n",
    "loandfNew['verification_status'].value_counts()"
   ]
  },
  {
   "cell_type": "markdown",
   "id": "e8d2ad46-6727-4ca0-9df2-5e4a3fa6ad79",
   "metadata": {},
   "source": [
    "## Understanding the categorical variables by plotting\n",
    "- grade\n",
    "- sub_grades\n",
    "- home_ownership\n",
    "- purpose\n",
    "- verification_status\n",
    "- loan_status\n",
    "- emp_length  "
   ]
  },
  {
   "cell_type": "code",
   "execution_count": 364,
   "id": "444f4e68-15fc-479f-8fd2-ccb796434fb9",
   "metadata": {},
   "outputs": [
    {
     "data": {
      "image/png": "[encoded data removed]",
      "text/plain": [
       "<Figure size 1500x400 with 2 Axes>"
      ]
     },
     "metadata": {},
     "output_type": "display_data"
    }
   ],
   "source": [
    "# Plotting graph by grade\n",
    "plt.figure(figsize=(15,4))\n",
    "\n",
    "plt.subplot(1,2,1)\n",
    "sns.countplot( x=\"grade\", data=loandfNew, order = np.sort(loandfNew['grade'].unique()))\n",
    "plt.title(\"Distribution of Loans by Grade\")\n",
    "plt.xlabel(\"Grade\")\n",
    "plt.ylabel(\"Number of Loans issued\")\n",
    "\n",
    "plt.subplot(1,2,2)\n",
    "sns.countplot( x=\"grade\", data=loandfNew[loandfNew['loan_status'] == 'Charged Off'], order = np.sort(loandfNew['grade'].unique()))\n",
    "plt.title(\"Distribution of Defaulted Loans by Grade\")\n",
    "plt.xlabel(\"Grade\")\n",
    "plt.ylabel(\"Number of Defaulted Loans\")\n",
    "\n",
    "# To rotate axis text\n",
    "plt.xticks(rotation=90)\n",
    "plt.show()"
   ]
  },
  {
   "cell_type": "markdown",
   "id": "f509e4d2-89c3-4b2c-97a8-4afbcfa83bb1",
   "metadata": {},
   "source": [
    "#### Conclusions drawn on distribution of loans disbursed against Loan grades\n",
    "- More number of loans disbursed were of Grade B type, followed by Grade A type of loans"
   ]
  },
  {
   "cell_type": "code",
   "execution_count": 365,
   "id": "93977f37-8300-48af-8752-cf24e5990497",
   "metadata": {},
   "outputs": [
    {
     "data": {
      "image/png": "[encoded data removed]",
      "text/plain": [
       "<Figure size 1000x400 with 1 Axes>"
      ]
     },
     "metadata": {},
     "output_type": "display_data"
    }
   ],
   "source": [
    "# Plotting graph by grade\n",
    "plt.figure(figsize=(10,4))\n",
    "\n",
    "sns.countplot( x=\"sub_grade\", data=loandfNew, order = np.sort(loandfNew['sub_grade'].unique()))\n",
    "plt.title(\"Distribution of Loans by Sub Grade\")\n",
    "plt.xlabel(\"Sub Grade\")\n",
    "plt.ylabel(\"Number of Loans issued\")\n",
    "\n",
    "# To rotate axis text\n",
    "plt.xticks(rotation=90)\n",
    "plt.show()"
   ]
  },
  {
   "cell_type": "markdown",
   "id": "7ad6f58b-3221-4a4e-a6c1-32a02002453f",
   "metadata": {},
   "source": [
    "#### Conclusions drawn on distribution of loans disbursed against Loan sub-grades\n",
    "- More number of loans disbursed were of Sug-grades A4, B3, A5, B5, followed by others."
   ]
  },
  {
   "cell_type": "code",
   "execution_count": 366,
   "id": "a5474da5-ec53-4d38-aae3-9d1ab0a8d0d4",
   "metadata": {},
   "outputs": [
    {
     "data": {
      "image/png": "[encoded data removed]",
      "text/plain": [
       "<Figure size 400x400 with 1 Axes>"
      ]
     },
     "metadata": {},
     "output_type": "display_data"
    }
   ],
   "source": [
    "# Plotting graph by home_ownership\n",
    "plt.figure(figsize=(4,4))\n",
    "\n",
    "sns.countplot( x=\"home_ownership\", data=loandfNew, order = np.sort(loandfNew['home_ownership'].unique()))\n",
    "plt.title(\"Distribution of Loans by home_ownership\")\n",
    "plt.xlabel(\"home_ownership\")\n",
    "plt.ylabel(\"Number of Loans issued\")\n",
    "\n",
    "# To rotate axis text\n",
    "plt.xticks(rotation=90)\n",
    "plt.show()"
   ]
  },
  {
   "cell_type": "markdown",
   "id": "05d0a71e-94f5-4c4c-b3f5-7997c3ced1db",
   "metadata": {},
   "source": [
    "#### Conclusions drawn on distribution of loans disbursed against home_ownership of the loan holders\n",
    "- Loans were sanctioned predominantly to those loan holders who are either living on RENT or on Mortagage."
   ]
  },
  {
   "cell_type": "code",
   "execution_count": 367,
   "id": "ff8014c2-31cd-4779-a772-6ee9a33ad5c7",
   "metadata": {},
   "outputs": [
    {
     "data": {
      "image/png": "[encoded data removed]",
      "text/plain": [
       "<Figure size 1000x400 with 1 Axes>"
      ]
     },
     "metadata": {},
     "output_type": "display_data"
    }
   ],
   "source": [
    "# Plotting graph by purpose\n",
    "plt.figure(figsize=(10,4))\n",
    "\n",
    "sns.countplot( x=\"purpose\", data=loandfNew, order = np.sort(loandfNew['purpose'].unique()))\n",
    "plt.title(\"Distribution of Loans by purpose\")\n",
    "plt.xlabel(\"purpose\")\n",
    "plt.ylabel(\"Number of Loans issued\")\n",
    "\n",
    "# To rotate axis text\n",
    "plt.xticks(rotation=90)\n",
    "plt.show()"
   ]
  },
  {
   "cell_type": "markdown",
   "id": "360dcfd0-a6fe-47d4-8879-be38295be2a4",
   "metadata": {},
   "source": [
    "#### Conclusions drawn on distribution of loans disbursed against purpose of loans taken\n",
    "- Predominantly, loans were taken by those who want to use them for debt-consolidation. This gives a picture that they are trying to rotate the loan amount from one to other, which is not bad sign for the company\n",
    "- Loans were also taken by those who wish to pay the credit card bills.\n"
   ]
  },
  {
   "cell_type": "code",
   "execution_count": 368,
   "id": "3aee759e-5bad-49be-9f52-f3dbe1717aab",
   "metadata": {},
   "outputs": [
    {
     "data": {
      "image/png": "[encoded data removed]",
      "text/plain": [
       "<Figure size 400x400 with 1 Axes>"
      ]
     },
     "metadata": {},
     "output_type": "display_data"
    }
   ],
   "source": [
    "# Plotting graph by verification_status\n",
    "plt.figure(figsize=(4,4))\n",
    "\n",
    "sns.countplot( x=\"verification_status\", data=loandfNew, order = np.sort(loandfNew['verification_status'].unique()))\n",
    "plt.title(\"Distribution of Loans by verification_status\")\n",
    "plt.xlabel(\"verification_status\")\n",
    "plt.ylabel(\"Number of Loans issued\")\n",
    "\n",
    "# To rotate axis text\n",
    "plt.xticks(rotation=90)\n",
    "plt.show()"
   ]
  },
  {
   "cell_type": "markdown",
   "id": "0617f81f-d175-470f-82f3-1de5f071521d",
   "metadata": {},
   "source": [
    "#### Conclusions drawn on distribution of loans disbursed against verification status\n",
    "- More than 40% of the loans were disbursed to those who are not verified. This is one more alarming factor."
   ]
  },
  {
   "cell_type": "code",
   "execution_count": 369,
   "id": "20f5d4b7-e9b5-45a1-a2b3-4bd953eacbb8",
   "metadata": {},
   "outputs": [
    {
     "data": {
      "image/png": "[encoded data removed]",
      "text/plain": [
       "<Figure size 400x400 with 1 Axes>"
      ]
     },
     "metadata": {},
     "output_type": "display_data"
    }
   ],
   "source": [
    "# Plotting graph by loan_status\n",
    "plt.figure(figsize=(4,4))\n",
    "\n",
    "sns.countplot( x=\"loan_status\", data=loandfNew, order = np.sort(loandfNew['loan_status'].unique()))\n",
    "plt.title(\"Distribution of Loans by loan_status\")\n",
    "plt.xlabel(\"loan_status\")\n",
    "plt.ylabel(\"Number of Loans issued\")\n",
    "\n",
    "# To rotate axis text\n",
    "plt.xticks(rotation=90)\n",
    "plt.show()"
   ]
  },
  {
   "cell_type": "markdown",
   "id": "dd79f3be-68b7-4b07-8d6a-2cf73dea5169",
   "metadata": {},
   "source": [
    "#### Conclusions drawn on distribution of loans disbursed against Loan status\n",
    "- 13% of the loans were charged-off in camparison with those paid. In the subsequest sections, we'll analyze driving factors on why the loans were charged-off"
   ]
  },
  {
   "cell_type": "code",
   "execution_count": 370,
   "id": "d69e16cc-37d1-4bc5-8726-f22e8fa0e780",
   "metadata": {},
   "outputs": [
    {
     "data": {
      "image/png": "[encoded data removed]",
      "text/plain": [
       "<Figure size 400x400 with 1 Axes>"
      ]
     },
     "metadata": {},
     "output_type": "display_data"
    }
   ],
   "source": [
    "# Plotting graph by emp_length\n",
    "plt.figure(figsize=(4,4))\n",
    "\n",
    "sns.countplot( x=\"emp_length\", data=loandfNew, order = np.sort(loandfNew['emp_length'].unique()))\n",
    "plt.title(\"Distribution of Loans by emp_length\")\n",
    "plt.xlabel(\"emp_length\")\n",
    "plt.ylabel(\"Number of Loans issued\")\n",
    "\n",
    "# To rotate axis text\n",
    "plt.xticks(rotation=90)\n",
    "plt.show()"
   ]
  },
  {
   "cell_type": "markdown",
   "id": "b2e49ba7-17ac-401e-8e34-54abf74d8cc0",
   "metadata": {},
   "source": [
    "#### Conclusions drawn on distribution of loans disbursed against Length of employment\n",
    "- Large number of loans were disbursed to those whose employment is 10+ years.\n",
    "- Another interesting point is that those with <1 year employment were more prone to taking loans."
   ]
  },
  {
   "cell_type": "code",
   "execution_count": 371,
   "id": "294a0531-5bbe-40f1-8ad3-93a0f24e6cfa",
   "metadata": {},
   "outputs": [
    {
     "data": {
      "image/png": "[encoded data removed]",
      "text/plain": [
       "<Figure size 400x400 with 1 Axes>"
      ]
     },
     "metadata": {},
     "output_type": "display_data"
    }
   ],
   "source": [
    "# Plotting graph by term\n",
    "plt.figure(figsize=(4,4))\n",
    "\n",
    "sns.countplot( x=\"term\", data=loandfNew, order = np.sort(loandfNew['term'].unique()))\n",
    "plt.title(\"Distribution of Loans by term\")\n",
    "plt.xlabel(\"term\")\n",
    "plt.ylabel(\"Number of Loans issued\")\n",
    "\n",
    "# To rotate axis text\n",
    "plt.xticks(rotation=90)\n",
    "plt.show()"
   ]
  },
  {
   "cell_type": "markdown",
   "id": "f07ff77e-e83f-48d1-a646-867e7c171626",
   "metadata": {},
   "source": [
    "#### Conclusions drawn on distribution of loans disbursed against Loan term\n",
    "- Majority of the loans were taken for shorter loan term, i.e., 36 months"
   ]
  },
  {
   "cell_type": "markdown",
   "id": "c6962b77-dc2e-4578-baaf-da5ef7748db5",
   "metadata": {},
   "source": [
    "## Understanding the continuous variables by making them categorical using plotting\n",
    "- int_rate_groups\n",
    "- open_acc_groups\n",
    "- revol_util_groups\n",
    "- total_acc_groups\n",
    "- annual_inc_groups"
   ]
  },
  {
   "cell_type": "code",
   "execution_count": 372,
   "id": "a722c3cf-531b-4687-8784-511e560dfd31",
   "metadata": {},
   "outputs": [
    {
     "data": {
      "text/plain": [
       "count    37091.000000\n",
       "mean        11.893714\n",
       "std          3.672804\n",
       "min          5.420000\n",
       "25%          8.940000\n",
       "50%         11.710000\n",
       "75%         14.300000\n",
       "max         24.400000\n",
       "Name: int_rate, dtype: float64"
      ]
     },
     "execution_count": 372,
     "metadata": {},
     "output_type": "execute_result"
    }
   ],
   "source": [
    "loandfNew['int_rate'].describe()"
   ]
  },
  {
   "cell_type": "code",
   "execution_count": 373,
   "id": "a9923047-3209-4b9c-85d8-2dc553d078de",
   "metadata": {},
   "outputs": [],
   "source": [
    "# Creating bins for int_rate_groups\n",
    "loandfNew['int_rate_groups'] = pd.cut(loandfNew['int_rate'], bins=5, precision=0, labels=['5%-9%','9%-13%','13%-17%','17%-21%','21%-24%'])"
   ]
  },
  {
   "cell_type": "code",
   "execution_count": 374,
   "id": "799ccf1f-d4b5-443e-9f23-8618fd4026ff",
   "metadata": {},
   "outputs": [
    {
     "data": {
      "image/png": "[encoded data removed]",
      "text/plain": [
       "<Figure size 600x400 with 1 Axes>"
      ]
     },
     "metadata": {},
     "output_type": "display_data"
    }
   ],
   "source": [
    "# Plotting graph by int_rate_groups that are charged-off\n",
    "plt.figure(figsize=(6,4))\n",
    "\n",
    "sns.countplot( x=\"int_rate_groups\", data=loandfNew[loandfNew['loan_status'] == 'Charged Off'], order = np.sort(loandfNew['int_rate_groups'].unique()))\n",
    "plt.title(\"Distribution of Loans by int_rate_groups\")\n",
    "plt.xlabel(\"int_rate_groups\")\n",
    "plt.ylabel(\"Count\")\n",
    "\n",
    "# To rotate axis text\n",
    "plt.xticks(rotation=90)\n",
    "plt.show()"
   ]
  },
  {
   "cell_type": "code",
   "execution_count": 375,
   "id": "8d32b43f-2c23-4298-b11d-d9b153c17c3a",
   "metadata": {},
   "outputs": [
    {
     "data": {
      "text/plain": [
       "count    37091.000000\n",
       "mean         9.185948\n",
       "std          4.360811\n",
       "min          2.000000\n",
       "25%          6.000000\n",
       "50%          8.000000\n",
       "75%         12.000000\n",
       "max         44.000000\n",
       "Name: open_acc, dtype: float64"
      ]
     },
     "execution_count": 375,
     "metadata": {},
     "output_type": "execute_result"
    }
   ],
   "source": [
    "loandfNew['open_acc'].describe()"
   ]
  },
  {
   "cell_type": "code",
   "execution_count": 376,
   "id": "da52d3b1-4695-4271-8878-76ac52b2854e",
   "metadata": {},
   "outputs": [],
   "source": [
    "# Creating bins for open_acc_groups\n",
    "loandfNew['open_acc_groups'] = pd.cut(loandfNew['open_acc'],bins = 5,precision =0,labels=['2-10','10-19','19-27','27-36','36-44'])"
   ]
  },
  {
   "cell_type": "code",
   "execution_count": 377,
   "id": "da47c40d-52a0-4e78-9d91-fa6e81b588f7",
   "metadata": {},
   "outputs": [
    {
     "data": {
      "image/png": "[encoded data removed]",
      "text/plain": [
       "<Figure size 600x400 with 1 Axes>"
      ]
     },
     "metadata": {},
     "output_type": "display_data"
    }
   ],
   "source": [
    "# Plotting graph by open_acc_groups that are charged-off\n",
    "plt.figure(figsize=(6,4))\n",
    "\n",
    "sns.countplot( x=\"open_acc_groups\", data=loandfNew[loandfNew['loan_status'] == 'Charged Off'], order = np.sort(loandfNew['open_acc_groups'].unique()))\n",
    "plt.title(\"Distribution of Loans by open_acc_groups\")\n",
    "plt.xlabel(\"open_acc_groups\")\n",
    "plt.ylabel(\"Count\")\n",
    "\n",
    "# To rotate axis text\n",
    "plt.xticks(rotation=90)\n",
    "plt.show()"
   ]
  },
  {
   "cell_type": "code",
   "execution_count": 378,
   "id": "980eceed-4e78-4440-885e-7932c27ea7ce",
   "metadata": {},
   "outputs": [
    {
     "data": {
      "text/plain": [
       "count    37091.000000\n",
       "mean        48.660187\n",
       "std         28.278541\n",
       "min          0.000000\n",
       "25%         25.300000\n",
       "50%         49.000000\n",
       "75%         72.100000\n",
       "max         99.900000\n",
       "Name: revol_util, dtype: float64"
      ]
     },
     "execution_count": 378,
     "metadata": {},
     "output_type": "execute_result"
    }
   ],
   "source": [
    "loandfNew['revol_util'].describe()"
   ]
  },
  {
   "cell_type": "code",
   "execution_count": 379,
   "id": "0ee0a500-db0d-40e6-a259-ffb63389aac5",
   "metadata": {},
   "outputs": [],
   "source": [
    "# Creating bins for revol_util_groups\n",
    "loandfNew['revol_util_groups'] = pd.cut(loandfNew['revol_util'], bins=5,precision =0,labels=['0-20','20-40','40-60','60-80','80-100'])"
   ]
  },
  {
   "cell_type": "code",
   "execution_count": 380,
   "id": "7b7d5c0c-d634-459c-bee3-a069e2dae221",
   "metadata": {},
   "outputs": [
    {
     "data": {
      "image/png": "[encoded data removed]",
      "text/plain": [
       "<Figure size 600x400 with 1 Axes>"
      ]
     },
     "metadata": {},
     "output_type": "display_data"
    }
   ],
   "source": [
    "# Plotting graph by revol_util_groups that are charged-off\n",
    "plt.figure(figsize=(6,4))\n",
    "\n",
    "sns.countplot( x=\"revol_util_groups\", data=loandfNew[loandfNew['loan_status'] == 'Charged Off'], order = np.sort(loandfNew['revol_util_groups'].unique()))\n",
    "plt.title(\"Distribution of Loans by revol_util_groups\")\n",
    "plt.xlabel(\"revol_util_groups\")\n",
    "plt.ylabel(\"Count\")\n",
    "\n",
    "# To rotate axis text\n",
    "plt.xticks(rotation=90)\n",
    "plt.show()"
   ]
  },
  {
   "cell_type": "code",
   "execution_count": 381,
   "id": "6322c6cc-9b51-43de-8801-9f6832e70abf",
   "metadata": {},
   "outputs": [
    {
     "data": {
      "text/plain": [
       "count    37091.000000\n",
       "mean        21.715834\n",
       "std         11.262141\n",
       "min          2.000000\n",
       "25%         13.000000\n",
       "50%         20.000000\n",
       "75%         28.000000\n",
       "max         90.000000\n",
       "Name: total_acc, dtype: float64"
      ]
     },
     "execution_count": 381,
     "metadata": {},
     "output_type": "execute_result"
    }
   ],
   "source": [
    "loandfNew['total_acc'].describe()"
   ]
  },
  {
   "cell_type": "code",
   "execution_count": 382,
   "id": "2292018f-38f5-417c-b409-71e9b0858c41",
   "metadata": {},
   "outputs": [],
   "source": [
    "# Creating bins for revol_util_groups\n",
    "loandfNew['total_acc_groups'] = pd.cut(loandfNew['total_acc'], bins=5, precision=0, labels=['2-20','20-37','37-55','55-74','74-90'])"
   ]
  },
  {
   "cell_type": "code",
   "execution_count": 383,
   "id": "e5904b1f-9858-433e-bd90-6ea1e92b3f4c",
   "metadata": {},
   "outputs": [
    {
     "data": {
      "image/png": "[encoded data removed]",
      "text/plain": [
       "<Figure size 600x400 with 1 Axes>"
      ]
     },
     "metadata": {},
     "output_type": "display_data"
    }
   ],
   "source": [
    "# Plotting graph by total_acc_groups that are charged-off\n",
    "plt.figure(figsize=(6,4))\n",
    "\n",
    "sns.countplot( x=\"total_acc_groups\", data=loandfNew[loandfNew['loan_status'] == 'Charged Off'], order = np.sort(loandfNew['total_acc_groups'].unique()))\n",
    "plt.title(\"Distribution of Loans by total_acc_groups\")\n",
    "plt.xlabel(\"total_acc_groups\")\n",
    "plt.ylabel(\"Count\")\n",
    "\n",
    "# To rotate axis text\n",
    "plt.xticks(rotation=90)\n",
    "plt.show()"
   ]
  },
  {
   "cell_type": "code",
   "execution_count": 384,
   "id": "62b18736-5d81-40b1-9a78-407ad6ac4cf2",
   "metadata": {},
   "outputs": [
    {
     "data": {
      "text/plain": [
       "count     37091.000000\n",
       "mean      61875.090474\n",
       "std       29125.064445\n",
       "min        4000.000000\n",
       "25%       40000.000000\n",
       "50%       56650.000000\n",
       "75%       79000.000000\n",
       "max      150000.000000\n",
       "Name: annual_inc, dtype: float64"
      ]
     },
     "execution_count": 384,
     "metadata": {},
     "output_type": "execute_result"
    }
   ],
   "source": [
    "loandfNew['annual_inc'].describe()"
   ]
  },
  {
   "cell_type": "code",
   "execution_count": 385,
   "id": "e552d8e6-bd6b-4e89-8978-f4f0dda5b3b9",
   "metadata": {},
   "outputs": [],
   "source": [
    "# Creating bins for annual_inc_groups\n",
    "loandfNew['annual_inc_groups'] = pd.cut(loandfNew['annual_inc'], bins=5, precision=0, labels=['3k-31k','31k-58k','58k-85k','85k-112k','112k-140k'])"
   ]
  },
  {
   "cell_type": "code",
   "execution_count": 386,
   "id": "6a4713b1-0a12-4691-8b6d-dcc323a98436",
   "metadata": {},
   "outputs": [
    {
     "data": {
      "image/png": "[encoded data removed]",
      "text/plain": [
       "<Figure size 600x400 with 1 Axes>"
      ]
     },
     "metadata": {},
     "output_type": "display_data"
    }
   ],
   "source": [
    "# Plotting graph by annual_inc_groups that are charged-off\n",
    "plt.figure(figsize=(6,4))\n",
    "\n",
    "sns.countplot( x=\"annual_inc_groups\", data=loandfNew[loandfNew['loan_status'] == 'Charged Off'], order = np.sort(loandfNew['annual_inc_groups'].unique()))\n",
    "plt.title(\"Distribution of Loans by annual_inc_groups\")\n",
    "plt.xlabel(\"annual_inc_groups\")\n",
    "plt.ylabel(\"Count\")\n",
    "\n",
    "# To rotate axis text\n",
    "plt.xticks(rotation=90)\n",
    "plt.show()"
   ]
  }
 ],
 "metadata": {
  "kernelspec": {
   "display_name": "Python 3 (ipykernel)",
   "language": "python",
   "name": "python3"
  },
  "language_info": {
   "codemirror_mode": {
    "name": "ipython",
    "version": 3
   },
   "file_extension": ".py",
   "mimetype": "text/x-python",
   "name": "python",
   "nbconvert_exporter": "python",
   "pygments_lexer": "ipython3",
   "version": "3.11.7"
  }
 },
 "nbformat": 4,
 "nbformat_minor": 5
}
